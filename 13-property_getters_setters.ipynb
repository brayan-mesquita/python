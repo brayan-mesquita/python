{
 "cells": [
  {
   "cell_type": "markdown",
   "metadata": {},
   "source": [
    "A aplicação mais comum destes decoradores são em estruturas de código onde se faz necessário o uso de alguma estrutura de validação. Realizaremos algo equivalente a um sistema validador porém aplicado diretamente como método de uma classe.\n"
   ]
  },
  {
   "cell_type": "markdown",
   "metadata": {},
   "source": [
    "## property"
   ]
  },
  {
   "cell_type": "code",
   "execution_count": 36,
   "metadata": {},
   "outputs": [],
   "source": [
    "class Produto:\n",
    "    def __init__(self, nome, preco=0):\n",
    "        self.nome = nome\n",
    "        self.preco = preco\n",
    "    #getter\n",
    "    @property \n",
    "    def preco(self):\n",
    "        return self._preco#retorna preco para self.preco\n",
    "    #setter\n",
    "    @preco.setter\n",
    "    def preco(self, preco_validado):\n",
    "        if isinstance(preco_validado, str):\n",
    "            preco_validado = float(preco_validado.replace('R$', ''))\n",
    "        self._preco = preco_validado\n",
    "    \n",
    "    def dar_desconto(self, percentual):\n",
    "        if isinstance(percentual, str):\n",
    "            percentual = float(percentual)\n",
    "        self.preco = self.preco - (self.preco * (percentual/100))\n",
    "        return self.preco"
   ]
  },
  {
   "cell_type": "code",
   "execution_count": 37,
   "metadata": {},
   "outputs": [
    {
     "name": "stdout",
     "output_type": "stream",
     "text": [
      "900.0 800.0 700.0 "
     ]
    }
   ],
   "source": [
    "produto1 = Produto('carro', 'R$1000')\n",
    "produto2 = Produto('carro', 1000.0)\n",
    "produto3 = Produto('moto', 1000.0)\n",
    "\n",
    "lista_produtos = [produto1.dar_desconto(10), produto2.dar_desconto(20), produto3.dar_desconto(30)]\n",
    "for i in (lista_produtos):\n",
    "    print(i, end=' ')\n"
   ]
  },
  {
   "cell_type": "code",
   "execution_count": 38,
   "metadata": {},
   "outputs": [
    {
     "data": {
      "text/plain": [
       "'moto'"
      ]
     },
     "execution_count": 38,
     "metadata": {},
     "output_type": "execute_result"
    }
   ],
   "source": [
    "produto3.nome"
   ]
  },
  {
   "cell_type": "markdown",
   "metadata": {},
   "source": [
    "## getters"
   ]
  },
  {
   "cell_type": "markdown",
   "metadata": {},
   "source": [
    "## setters"
   ]
  }
 ],
 "metadata": {
  "kernelspec": {
   "display_name": "Python 3.8.10 64-bit",
   "language": "python",
   "name": "python3"
  },
  "language_info": {
   "codemirror_mode": {
    "name": "ipython",
    "version": 3
   },
   "file_extension": ".py",
   "mimetype": "text/x-python",
   "name": "python",
   "nbconvert_exporter": "python",
   "pygments_lexer": "ipython3",
   "version": "3.9.6"
  },
  "orig_nbformat": 4,
  "vscode": {
   "interpreter": {
    "hash": "31f2aee4e71d21fbe5cf8b01ff0e069b9275f58929596ceb00d14d90e3e16cd6"
   }
  }
 },
 "nbformat": 4,
 "nbformat_minor": 2
}
