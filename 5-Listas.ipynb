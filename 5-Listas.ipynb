{
  "cells": [
    {
      "cell_type": "markdown",
      "metadata": {
        "id": "Mx0uAmib181M"
      },
      "source": [
        "#Informações\n",
        "Python para coisas chatas\n",
        "pagina 118"
      ]
    },
    {
      "cell_type": "markdown",
      "metadata": {
        "id": "hFfrZBNC0L9e"
      },
      "source": [
        "https://docs.python.org/pt-br/3/tutorial/datastructures.html"
      ]
    },
    {
      "cell_type": "markdown",
      "metadata": {
        "id": "ztXbXA-A1TJZ"
      },
      "source": [
        "##criando listas"
      ]
    },
    {
      "cell_type": "code",
      "execution_count": null,
      "metadata": {
        "id": "xR2zJVs4SMYx"
      },
      "outputs": [],
      "source": [
        "vazia = []\n",
        "varios = [10, 20, 30, 40, 'meu nome é Brayan', True, 3.12]\n",
        "veiculos = [\"Carro\", \"Moto\", \"Aeronave\"]\n",
        "diversos = ['João',{'Idade':28}, ['Música', 'Esporte']]\n",
        "lista_das_listas = [vazia, varios, veiculos, diversos]"
      ]
    },
    {
      "cell_type": "code",
      "execution_count": null,
      "metadata": {
        "colab": {
          "base_uri": "https://localhost:8080/"
        },
        "id": "7d_lUsVqx7km",
        "outputId": "e4ead035-3e23-4cfb-eee8-849a5bc20d70"
      },
      "outputs": [
        {
          "name": "stdout",
          "output_type": "stream",
          "text": [
            "[0, 1, 2, 3, 4, 5, 6, 7, 8, 9]\n",
            "[9, 8, 7, 6, 5, 4, 3, 2, 1, 0]\n"
          ]
        }
      ],
      "source": [
        "numeros_range = list(range(10))\n",
        "print(numeros_range)\n",
        "numeros_range = list(reversed(range(10)))\n",
        "print(numeros_range)"
      ]
    },
    {
      "cell_type": "code",
      "execution_count": null,
      "metadata": {
        "colab": {
          "base_uri": "https://localhost:8080/"
        },
        "id": "wWmlSgogHCLb",
        "outputId": "09e2a502-8484-45ef-86f0-a5894dc66164"
      },
      "outputs": [
        {
          "data": {
            "text/plain": [
              "[0, 1, 4, 9, 16, 25, 36, 49, 64, 81]"
            ]
          },
          "execution_count": 15,
          "metadata": {},
          "output_type": "execute_result"
        }
      ],
      "source": [
        "numerosquadrados = [x**2 for x in range(10)]\n",
        "numerosquadrados"
      ]
    },
    {
      "cell_type": "markdown",
      "metadata": {
        "id": "O8JbBd5c1RdI"
      },
      "source": [
        "##retornando valores"
      ]
    },
    {
      "cell_type": "code",
      "execution_count": null,
      "metadata": {
        "colab": {
          "base_uri": "https://localhost:8080/"
        },
        "id": "DIzV5ZaYz64p",
        "outputId": "f9531728-67b1-41a5-fc61-ab6ca826caf7"
      },
      "outputs": [
        {
          "name": "stdout",
          "output_type": "stream",
          "text": [
            "28\n",
            "20\n",
            "True\n",
            "True\n",
            "MEU NOME É BRAYAN\n",
            "20.0\n",
            "4\n",
            "[[], [10, 20, 30, 40, 'meu nome é Brayan', True, 3.12], ['Carro', 'Moto', 'Aeronave'], ['João', {'Idade': 28}, ['Música', 'Esporte']]]\n",
            "[20, 30]\n",
            "[30, 40, 'meu nome é Brayan', True, 3.12]\n"
          ]
        }
      ],
      "source": [
        "#RETORNANDO VALORES DE LISTAS\n",
        "print(diversos[1]['Idade'])\n",
        "print(varios[4-3])\n",
        "print(varios[-2])\n",
        "print(varios[len(varios)-2])\n",
        "print(varios[4].upper())#transoformação de texto\n",
        "print(float(varios[1]))#conversão de numero int para float\n",
        "print(len(lista_das_listas))#tamanho da lista de listas\n",
        "print(lista_das_listas)#lista de listas\n",
        "print(varios[1:-4])#do segundo item até -4 no final\n",
        "print(varios[2:])#3º item ate ultimo"
      ]
    },
    {
      "cell_type": "code",
      "execution_count": null,
      "metadata": {
        "colab": {
          "base_uri": "https://localhost:8080/"
        },
        "id": "muwHGjMDzHoa",
        "outputId": "bf4ecf7c-b646-4943-ae17-977c1e5c1767"
      },
      "outputs": [
        {
          "name": "stdout",
          "output_type": "stream",
          "text": [
            "índice=0, valor=10\n",
            "índice=1, valor=20\n",
            "índice=2, valor=30\n",
            "índice=3, valor=40\n",
            "índice=4, valor=50\n",
            "índice=5, valor=60\n",
            "índice=6, valor=brayan\n",
            "índice=7, valor=miguel\n",
            "\n",
            "Invertendo lista\n",
            "\n",
            "índice=0, valor=miguel\n",
            "índice=1, valor=brayan\n",
            "índice=2, valor=60\n",
            "índice=3, valor=50\n",
            "índice=4, valor=40\n",
            "índice=5, valor=30\n",
            "índice=6, valor=20\n",
            "índice=7, valor=10\n"
          ]
        }
      ],
      "source": [
        "lista = [10, 20, 30, 40, 50, 60]\n",
        "lista = lista + ['brayan']\n",
        "lista += ['miguel']\n",
        "\n",
        "for indice, valor in enumerate(lista):\n",
        "    print(f'índice={indice}, valor={valor}')\n",
        "print('\\nInvertendo lista\\n')\n",
        "lista.reverse()\n",
        "for indice, valor in enumerate(lista):\n",
        "    print(f'índice={indice}, valor={valor}')"
      ]
    },
    {
      "cell_type": "markdown",
      "metadata": {
        "id": "rFfyWrTA1WcR"
      },
      "source": [
        "##modificando itens das listas"
      ]
    },
    {
      "cell_type": "code",
      "execution_count": null,
      "metadata": {
        "id": "JvreZ9Iw1QiC"
      },
      "outputs": [],
      "source": [
        "varios[0] = 'mudei o primeiro'#mudando primeiro\n",
        "varios[-1] = 9.17#mudando ultimo item\n",
        "varios[2] = \"brayan\" + ' ' + 'soares'"
      ]
    },
    {
      "cell_type": "code",
      "execution_count": null,
      "metadata": {
        "colab": {
          "base_uri": "https://localhost:8080/"
        },
        "id": "zbOxSIM81gmt",
        "outputId": "7aac0916-bd9c-44a6-f2a3-44fc596dd3af"
      },
      "outputs": [
        {
          "data": {
            "text/plain": [
              "['mudei o primeiro', 20, 'brayan soares', 40, 'meu nome é Brayan', True, 9.17]"
            ]
          },
          "execution_count": 35,
          "metadata": {},
          "output_type": "execute_result"
        }
      ],
      "source": [
        "varios"
      ]
    },
    {
      "cell_type": "code",
      "execution_count": null,
      "metadata": {
        "colab": {
          "base_uri": "https://localhost:8080/"
        },
        "id": "HNgFOjrS2GhH",
        "outputId": "491b2045-01e8-4245-98d9-e581b64d8f69"
      },
      "outputs": [
        {
          "data": {
            "text/plain": [
              "[824, 660, 615, 837, 561, 885, 977]"
            ]
          },
          "execution_count": 30,
          "metadata": {},
          "output_type": "execute_result"
        }
      ],
      "source": [
        "#alterando todos os elemntos para numeros aleatorios\n",
        "import random as rd\n",
        "for i in range(len(varios)):\n",
        "  varios[i] = rd.randint(10, 1000)\n",
        "varios"
      ]
    },
    {
      "cell_type": "code",
      "execution_count": null,
      "metadata": {
        "colab": {
          "base_uri": "https://localhost:8080/"
        },
        "id": "qeARS0mHnKq7",
        "outputId": "66baacd8-05b4-4654-a552-151812499749"
      },
      "outputs": [
        {
          "name": "stdout",
          "output_type": "stream",
          "text": [
            "Brayan\n",
            "A lista é ['Brayan'], com o tamanho de 1 itens\n",
            "Miguel\n",
            "A lista é ['Brayan', 'Miguel'], com o tamanho de 2 itens\n",
            "Patrícia\n",
            "A lista é ['Brayan', 'Miguel', 'Patrícia'], com o tamanho de 3 itens\n",
            "0\n",
            "['Brayan', 'Miguel', 'Patrícia']\n",
            "['Brayan', 'Miguel']\n",
            "['Brayan']\n",
            "[]\n"
          ]
        }
      ],
      "source": [
        "#adiconando itens e removendo todos\n",
        "lista = []\n",
        "try:\n",
        "  while True:\n",
        "    valor = input()\n",
        "    if valor == '0':\n",
        "      for i in range(len(lista)+1):\n",
        "        print(lista)\n",
        "        lista.pop()\n",
        "      break\n",
        "    lista.append(valor)\n",
        "    print(f'A lista é {lista}, com o tamanho de {len(lista)} itens')\n",
        "except:\n",
        "  pass"
      ]
    },
    {
      "cell_type": "code",
      "execution_count": null,
      "metadata": {
        "colab": {
          "base_uri": "https://localhost:8080/"
        },
        "id": "jPA0TFu0tuHZ",
        "outputId": "13d68c0a-2367-4fec-d548-0698db6c80a1"
      },
      "outputs": [
        {
          "name": "stdout",
          "output_type": "stream",
          "text": [
            "Digite um nome de Carro 1 ( ou nada para parar):\n",
            "Fusca\n",
            "Digite um nome de Carro 2 ( ou nada para parar):\n",
            "Kombi\n",
            "Digite um nome de Carro 3 ( ou nada para parar):\n",
            "Celta\n",
            "Digite um nome de Carro 4 ( ou nada para parar):\n",
            "Onix\n",
            "Digite um nome de Carro 5 ( ou nada para parar):\n",
            "\n",
            "Os carros são:\n",
            "1 Fusca\n",
            "2 Kombi\n",
            "3 Celta\n",
            "4 Onix\n"
          ]
        }
      ],
      "source": [
        "carros = []\n",
        "while True:\n",
        " print('Digite um nome do Carro ' + str(len(carros) + 1) + ' ( ou nada para parar):')\n",
        " name = input()\n",
        " if name == '':\n",
        "  break\n",
        " carros = carros + [name] # list concatenation\n",
        "print('Os carros são:')\n",
        "i = 1\n",
        "for name in carros:\n",
        "  print(str(i) + ' ' + name)\n",
        "  i += 1"
      ]
    },
    {
      "cell_type": "markdown",
      "metadata": {
        "id": "qJWHOza64NVr"
      },
      "source": [
        "##concatenação de listas"
      ]
    },
    {
      "cell_type": "code",
      "execution_count": null,
      "metadata": {
        "colab": {
          "base_uri": "https://localhost:8080/"
        },
        "id": "UTvEiUxV4Q2-",
        "outputId": "6b2a6ffe-7895-4caf-87fe-8e6c7a947e6b"
      },
      "outputs": [
        {
          "name": "stdout",
          "output_type": "stream",
          "text": [
            "[1, 2, 3, 1, 2, 5]\n",
            "[1, 2, 3, 1, 2, 3, 'brayan', 'miguel']\n"
          ]
        }
      ],
      "source": [
        "a = [1, 2, 3]\n",
        "b = [1, 2, 5]\n",
        "c = ['um', 'dois', 'três']\n",
        "d = ['1', '2', '3']\n",
        "\n",
        "q = a + b\n",
        "p = a * 2 + ['brayan', 'miguel']\n",
        "print(q)\n",
        "print(p)"
      ]
    },
    {
      "cell_type": "markdown",
      "metadata": {
        "id": "bqk4aRbFulpx"
      },
      "source": [
        "##loop in listas"
      ]
    },
    {
      "cell_type": "code",
      "execution_count": null,
      "metadata": {
        "colab": {
          "base_uri": "https://localhost:8080/"
        },
        "id": "UJl1c2rPuqVI",
        "outputId": "ce776f0d-41ff-4cbe-82ec-7cc5476b67c4"
      },
      "outputs": [
        {
          "name": "stdout",
          "output_type": "stream",
          "text": [
            "brayan miguel soares "
          ]
        }
      ],
      "source": [
        "for i in ['brayan', 'miguel', 'soares']:\n",
        "  print(i, end=' ')"
      ]
    },
    {
      "cell_type": "markdown",
      "metadata": {
        "id": "6BjETXwIvDFn"
      },
      "source": [
        "##operadores in e not in"
      ]
    },
    {
      "cell_type": "code",
      "execution_count": null,
      "metadata": {
        "colab": {
          "base_uri": "https://localhost:8080/"
        },
        "id": "xIjmaBMtblg8",
        "outputId": "1b053d50-8602-49e0-9575-9b17f6f7a759"
      },
      "outputs": [
        {
          "name": "stdout",
          "output_type": "stream",
          "text": [
            "True\n",
            "True\n",
            "False\n"
          ]
        }
      ],
      "source": [
        "nomes = ['brayan', 'miguel', 3]\n",
        "print(3 in [2, 3, 4])\n",
        "print('brayan' in nomes)\n",
        "print('brayan' not in nomes)"
      ]
    },
    {
      "cell_type": "markdown",
      "metadata": {
        "id": "F4ZDKscrd-PM"
      },
      "source": [
        "## metodo pop"
      ]
    },
    {
      "cell_type": "code",
      "execution_count": null,
      "metadata": {
        "colab": {
          "base_uri": "https://localhost:8080/"
        },
        "id": "3q-8KqtieYrJ",
        "outputId": "59e9d6ec-e994-424b-893a-87a299c47ae7"
      },
      "outputs": [
        {
          "name": "stdout",
          "output_type": "stream",
          "text": [
            "[1, 2, 3, 'brayan', 'miguel']\n",
            "miguel\n",
            "[1, 2, 3, 'brayan']\n",
            "[2, 3, 'brayan']\n",
            "brayan\n",
            "[2, 3]\n"
          ]
        }
      ],
      "source": [
        "lista = [1, 2, 3,  'brayan', 'miguel']\n",
        "print(lista)\n",
        "print(lista.pop())\n",
        "print(lista)\n",
        "del lista[0]\n",
        "print(lista)\n",
        "print(lista.pop(2))\n",
        "print(lista)"
      ]
    },
    {
      "cell_type": "markdown",
      "metadata": {
        "id": "_v-wZcTasMo5"
      },
      "source": [
        "##método index"
      ]
    },
    {
      "cell_type": "code",
      "execution_count": null,
      "metadata": {
        "colab": {
          "base_uri": "https://localhost:8080/"
        },
        "id": "YRiiO7jQsQ8h",
        "outputId": "bf78c1e8-a5d2-415a-fa48-84965c01cd2e"
      },
      "outputs": [
        {
          "name": "stdout",
          "output_type": "stream",
          "text": [
            "0\n",
            "2\n"
          ]
        }
      ],
      "source": [
        "nomes = ['brayan', 'miguel', 'soares', 'brayan']\n",
        "print(nomes.index('brayan'))#retorna a primeira ocorrência encontrada\n",
        "print(nomes.index('soares'))"
      ]
    },
    {
      "cell_type": "markdown",
      "metadata": {
        "id": "EaDG5NHTs5A8"
      },
      "source": [
        "##método insert\n"
      ]
    },
    {
      "cell_type": "code",
      "execution_count": null,
      "metadata": {
        "colab": {
          "base_uri": "https://localhost:8080/"
        },
        "id": "-Cwo39CVs9ge",
        "outputId": "813c9fe7-ab1a-43ed-a7fa-192379b7f08a"
      },
      "outputs": [
        {
          "data": {
            "text/plain": [
              "['macaco', 'zebra']"
            ]
          },
          "execution_count": 9,
          "metadata": {},
          "output_type": "execute_result"
        }
      ],
      "source": [
        "animais = []\n",
        "animais.append('macaco')\n",
        "animais.append('zebra')\n",
        "animais"
      ]
    },
    {
      "cell_type": "markdown",
      "metadata": {
        "id": "01r1WzMps60_"
      },
      "source": [
        "##método append"
      ]
    },
    {
      "cell_type": "code",
      "execution_count": null,
      "metadata": {
        "colab": {
          "base_uri": "https://localhost:8080/"
        },
        "id": "x8zpNH9Nte75",
        "outputId": "64ad2dbd-7df3-4ce3-8751-a3ff2482683d"
      },
      "outputs": [
        {
          "name": "stdout",
          "output_type": "stream",
          "text": [
            "['macaco']\n",
            "['gorila', 'macaco']\n",
            "['gorila', 'macaco', 'gorila2']\n"
          ]
        }
      ],
      "source": [
        "animais = []\n",
        "animais.append('macaco')\n",
        "print(animais)\n",
        "animais.insert(0, 'gorila')\n",
        "print(animais)\n",
        "animais.insert(2, 'gorila2')\n",
        "print(animais)"
      ]
    },
    {
      "cell_type": "markdown",
      "metadata": {
        "id": "UV2bpUp8uTKQ"
      },
      "source": [
        "##método remove\n",
        "Remove através do nome da lista"
      ]
    },
    {
      "cell_type": "code",
      "execution_count": null,
      "metadata": {
        "colab": {
          "base_uri": "https://localhost:8080/"
        },
        "id": "49t6rH5quV4h",
        "outputId": "dc2a7638-c5bf-41dd-cfed-74543b79ba2b"
      },
      "outputs": [
        {
          "name": "stdout",
          "output_type": "stream",
          "text": [
            "['gorila', 'gorila2']\n"
          ]
        }
      ],
      "source": [
        "animais = ['gorila', 'macaco', 'gorila2']\n",
        "animais.remove('macaco')\n",
        "print(animais)"
      ]
    },
    {
      "cell_type": "code",
      "execution_count": null,
      "metadata": {
        "colab": {
          "base_uri": "https://localhost:8080/"
        },
        "id": "h6m8JWjfuwlU",
        "outputId": "4adcee1f-74a0-4cff-a2fc-adac13229ca4"
      },
      "outputs": [
        {
          "data": {
            "text/plain": [
              "['a', 'a']"
            ]
          },
          "execution_count": 24,
          "metadata": {},
          "output_type": "execute_result"
        }
      ],
      "source": [
        "letras = ['a', 'a', 'a']\n",
        "letras.remove('a')\n",
        "letras# apenas a primeira instância deo valor será removido"
      ]
    },
    {
      "cell_type": "markdown",
      "metadata": {
        "id": "bmSlkLTTA1wv"
      },
      "source": [
        "##método del"
      ]
    },
    {
      "cell_type": "code",
      "execution_count": null,
      "metadata": {
        "colab": {
          "base_uri": "https://localhost:8080/"
        },
        "id": "7zOTwhZ7A0X_",
        "outputId": "c1bac131-7ed9-4761-c88a-00ab16f18643"
      },
      "outputs": [
        {
          "name": "stdout",
          "output_type": "stream",
          "text": [
            "[1, 3, 4]\n"
          ]
        }
      ],
      "source": [
        "numeros = [1, 2, 3, 4]\n",
        "del numeros[1]#remove pelo indice\n",
        "print(numeros)"
      ]
    },
    {
      "cell_type": "markdown",
      "metadata": {
        "id": "vL1yTMc9vbsD"
      },
      "source": [
        "##método sort"
      ]
    },
    {
      "cell_type": "code",
      "execution_count": null,
      "metadata": {
        "colab": {
          "base_uri": "https://localhost:8080/"
        },
        "id": "WAwdNWwJsDrw",
        "outputId": "e22da003-7ea0-4789-c53f-9a8bf572e5a0"
      },
      "outputs": [
        {
          "name": "stdout",
          "output_type": "stream",
          "text": [
            "['a', 'c', 'd', 'd']\n",
            "[1, 2, 5, 20, 45]\n",
            "[45, 20, 5, 2, 1]\n"
          ]
        }
      ],
      "source": [
        "letras = ['a', 'd', 'c', 'd']\n",
        "letras.sort()\n",
        "print(letras)\n",
        "numeros = [20, 5, 2, 45 , 1]\n",
        "numeros.sort()\n",
        "print(numeros)\n",
        "numeros.sort(reverse=True)#invertendo ordem\n",
        "print(numeros)"
      ]
    },
    {
      "cell_type": "markdown",
      "metadata": {
        "id": "bhNcrxG9EyYo"
      },
      "source": [
        "##método copy"
      ]
    },
    {
      "cell_type": "code",
      "execution_count": null,
      "metadata": {
        "colab": {
          "base_uri": "https://localhost:8080/"
        },
        "id": "L8s3XpwhE0-Z",
        "outputId": "40990e0f-aafd-4b1e-effe-b909d9f45cbf"
      },
      "outputs": [
        {
          "name": "stdout",
          "output_type": "stream",
          "text": [
            "['honda', 'suzuki', 'outra']\n",
            "['honda', 'suzuki', 'yamaha']\n",
            "['honda', 'suzuki', 'outra']\n"
          ]
        }
      ],
      "source": [
        "import copy\n",
        "motos = ['honda', 'suzuki', 'yamaha']\n",
        "marcas = copy.copy(motos)\n",
        "motos[-1] = 'outra'\n",
        "print(motos)\n",
        "print(marcas)"
      ]
    },
    {
      "cell_type": "markdown",
      "metadata": {
        "id": "7Ofk-RHgHlaV"
      },
      "source": [
        "##Compressão de listas\n",
        "Compreensões de lista fornece uma maneira concisa de criar uma lista. Aplicações comuns são criar novas listas onde cada elemento é o resultado de alguma operação aplicada a cada elemento de outra sequência ou iterável, ou criar uma subsequência de elementos que satisfaçam uma certa condição."
      ]
    },
    {
      "cell_type": "code",
      "execution_count": null,
      "metadata": {
        "colab": {
          "base_uri": "https://localhost:8080/"
        },
        "id": "84CQJtAlHjJc",
        "outputId": "5c9c335e-f769-4b18-c343-2dd6dc3022e0"
      },
      "outputs": [
        {
          "data": {
            "text/plain": [
              "[0, 1, 4, 9, 16, 25, 36, 49, 64, 81]"
            ]
          },
          "execution_count": 27,
          "metadata": {},
          "output_type": "execute_result"
        }
      ],
      "source": [
        "numeros = []\n",
        "for x in range(10):\n",
        "  numeros.append(x**2)\n",
        "numeros"
      ]
    },
    {
      "cell_type": "code",
      "execution_count": null,
      "metadata": {
        "colab": {
          "base_uri": "https://localhost:8080/"
        },
        "id": "lJCvyxV7H3Cw",
        "outputId": "3b49acb8-4b7d-463e-b3e3-968b461dd84d"
      },
      "outputs": [
        {
          "data": {
            "text/plain": [
              "[0, 1, 4, 9, 16, 25, 36, 49, 64, 81]"
            ]
          },
          "execution_count": 18,
          "metadata": {},
          "output_type": "execute_result"
        }
      ],
      "source": [
        "numeros = list(map(lambda x: x**2, range(10)))\n",
        "numeros"
      ]
    },
    {
      "cell_type": "code",
      "execution_count": null,
      "metadata": {
        "colab": {
          "base_uri": "https://localhost:8080/"
        },
        "id": "mhCxLfIfH9ST",
        "outputId": "0734f976-3a89-409f-8486-5669bc4629f4"
      },
      "outputs": [
        {
          "data": {
            "text/plain": [
              "[0, 1, 4, 9, 16, 25, 36, 49, 64, 81]"
            ]
          },
          "execution_count": 26,
          "metadata": {},
          "output_type": "execute_result"
        }
      ],
      "source": [
        "[x**2 for x in range(10)]"
      ]
    },
    {
      "cell_type": "code",
      "execution_count": null,
      "metadata": {
        "colab": {
          "base_uri": "https://localhost:8080/"
        },
        "id": "fnDAGhY3IDT1",
        "outputId": "8b13a74e-25d1-490d-cb66-bfe113970862"
      },
      "outputs": [
        {
          "data": {
            "text/plain": [
              "[(1, 3), (1, 4), (2, 3), (2, 1), (2, 4), (3, 1), (3, 4)]"
            ]
          },
          "execution_count": 21,
          "metadata": {},
          "output_type": "execute_result"
        }
      ],
      "source": [
        "[(x, y) for x in [1,2,3] for y in [3,1,4] if x != y]"
      ]
    },
    {
      "cell_type": "code",
      "execution_count": 1,
      "metadata": {
        "colab": {
          "base_uri": "https://localhost:8080/"
        },
        "id": "w9L6G-ArIZNm",
        "outputId": "3fc1794f-2f78-45fb-c282-a5fa36526ac7"
      },
      "outputs": [
        {
          "name": "stdout",
          "output_type": "stream",
          "text": [
            "[10, 20, 30, 40]\n"
          ]
        }
      ],
      "source": [
        "numeros = [1, 2, 3, 4]\n",
        "[x*10 for x in numeros]"
      ]
    },
    {
      "cell_type": "code",
      "execution_count": 9,
      "metadata": {
        "colab": {
          "base_uri": "https://localhost:8080/"
        },
        "id": "Mr6sW9wvREse",
        "outputId": "6eca9b1e-022e-48a9-f577-08457ee418a3"
      },
      "outputs": [
        {
          "name": "stdout",
          "output_type": "stream",
          "text": [
            "[0, 10, 20, 30, 40, 50, 60, 70, 80, 90, 100]\n",
            "100\n",
            "0\n",
            "550\n"
          ]
        }
      ],
      "source": [
        "numeros = []\n",
        "for x in range(0, 55, 5):\n",
        "  numeros.append(x * 2)\n",
        "print(numeros)\n",
        "print(max(numeros))\n",
        "print(min(numeros))\n",
        "print(sum(numeros))"
      ]
    },
    {
      "cell_type": "markdown",
      "metadata": {
        "id": "i07CX2q05fQC"
      },
      "source": [
        "pagina 117\n"
      ]
    }
  ],
  "metadata": {
    "colab": {
      "authorship_tag": "ABX9TyOdPwVEd8Ji0TASy8sb1zI+",
      "collapsed_sections": [],
      "name": "5 - Listas.ipynb",
      "provenance": []
    },
    "kernelspec": {
      "display_name": "Python 3.8.10 64-bit",
      "language": "python",
      "name": "python3"
    },
    "language_info": {
      "name": "python",
      "version": "3.8.10"
    },
    "vscode": {
      "interpreter": {
        "hash": "31f2aee4e71d21fbe5cf8b01ff0e069b9275f58929596ceb00d14d90e3e16cd6"
      }
    }
  },
  "nbformat": 4,
  "nbformat_minor": 0
}
