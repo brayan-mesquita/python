{
  "cells": [
    {
      "cell_type": "markdown",
      "metadata": {
        "colab_type": "text",
        "id": "view-in-github"
      },
      "source": [
        "<a href=\"https://colab.research.google.com/github/brayan-mesquita/python/blob/main/9-orientacapo-a-objetos.ipynb\" target=\"_parent\"><img src=\"https://colab.research.google.com/assets/colab-badge.svg\" alt=\"Open In Colab\"/></a>"
      ]
    },
    {
      "cell_type": "markdown",
      "metadata": {
        "id": "eFiVyTnehV9l"
      },
      "source": [
        "## Classe"
      ]
    },
    {
      "cell_type": "code",
      "execution_count": null,
      "metadata": {
        "colab": {
          "base_uri": "https://localhost:8080/",
          "height": 38
        },
        "id": "iYxbxh9sj0qr",
        "outputId": "1fb271d8-9b00-48d6-97c7-a3b71243a9c7"
      },
      "outputs": [
        {
          "name": "stdout",
          "output_type": "stream",
          "text": [
            "brayan\n",
            "M\n",
            "30\n",
            "['contabilidade', 'programação', 'ciência de dados']\n",
            "brayan\n"
          ]
        }
      ],
      "source": [
        "class Pessoa():\n",
        "  nome = 'brayan'\n",
        "  idade = 19\n",
        "humano = Pessoa()\n",
        "print(humano.nome)\n",
        "#criando atributo\n",
        "humano.sexo = 'M'\n",
        "print(humano.sexo)\n",
        "#alterando\n",
        "humano.idade = 30\n",
        "print(humano.idade)\n",
        "#adicionando atributos em lista\n",
        "humano.conhecimentos = ['contabilidade', 'programação', 'ciência de dados']\n",
        "print(humano.conhecimentos)\n",
        "#adicionando atributos em dicionário\n",
        "humano.contatos = {'992':'brayan', '993':'miguel'}\n",
        "print(humano.contatos['992'])"
      ]
    },
    {
      "cell_type": "markdown",
      "metadata": {
        "id": "ebU1ePQ-P9Gx"
      },
      "source": [
        "## funções setattr e delattr"
      ]
    },
    {
      "cell_type": "code",
      "execution_count": null,
      "metadata": {
        "id": "fAwYEBIVP9Gz",
        "outputId": "70baefcd-20bd-4175-9c3c-f42d26a5a56b"
      },
      "outputs": [
        {
          "name": "stdout",
          "output_type": "stream",
          "text": [
            "seu nome é alguem, e você tem 0 anos\n",
            "seu nome é brayan, e você tem 30 anos\n",
            "seu nome é Patrícia, e você tem 41 anos\n",
            "seu nome é miguel, e você tem 5 anos\n",
            "seu nome é miguel, e você tem 18 anos\n",
            "['programação', 'análise de dados']\n"
          ]
        }
      ],
      "source": [
        "class Pessoa():\n",
        "    def __init__(self, nome='alguem', idade='0'):\n",
        "        self.nome = nome\n",
        "        self.idade = idade\n",
        "    def falarnome(self):\n",
        "        print(f'seu nome é {self.nome}, e você tem {self.idade} anos')\n",
        "humano = Pessoa()#inicialmente foi atribuido as nomes padrões\n",
        "humano.falarnome()\n",
        "#passando parametros\n",
        "humano.nome, humano.idade = 'brayan', '30'\n",
        "#passando parametros 2 forma\n",
        "serhumano = Pessoa('Patrícia', '41')\n",
        "humano.falarnome()\n",
        "serhumano.falarnome()\n",
        "\n",
        "#mudando nome\n",
        "setattr(humano, 'nome', 'Miguel')\n",
        "setattr(humano, 'idade', '5')\n",
        "humano.falarnome()\n",
        "\n",
        "#apagando atributo\n",
        "delattr(humano, 'idade',)#apaga o atributo\n",
        "\n",
        "#setando atributo com valor\n",
        "setattr(humano, 'idade', '18')\n",
        "humano.falarnome()\n",
        "\n",
        "#setando novo atributo\n",
        "setattr(humano, 'hoobs', ['programação', 'análise de dados'])\n",
        "print(humano.hoobs)"
      ]
    },
    {
      "cell_type": "code",
      "execution_count": null,
      "metadata": {
        "colab": {
          "base_uri": "https://localhost:8080/"
        },
        "id": "OVfEciHhlCmN",
        "outputId": "dcc24b22-a880-4f61-c297-d8094a49a8fa"
      },
      "outputs": [
        {
          "name": "stdout",
          "output_type": "stream",
          "text": [
            "A marca do carro é Volks, o motor é 1.6. Se eu gosto: não\n",
            "Você não gostava mesmo do Volks, mas vou mudar seu conceito\n",
            "A marca do carro é Volks, o motor é 1.6. Se eu gosto: sim\n",
            "Imprimindo valor interno da funçãosim\n",
            "A marca do carro é Toyota, o motor é 2.0. Se eu gosto: sim\n"
          ]
        }
      ],
      "source": [
        "class Carro():\n",
        "  def __init__(self, marca, motor, cor):\n",
        "    self.marca = marca\n",
        "    self.motor = motor\n",
        "    self.cor = cor\n",
        "  def caracteristicas(self, gosto='não'):#atributo especifico para esta função, valor padrão não\n",
        "    self.gosto = gosto\n",
        "    print(f\"A marca do carro é {self.marca}, o motor é {self.motor}. Se eu gosto: {self.gosto}\")\n",
        "    if 'não' == self.gosto:\n",
        "      print(f'Você não gostava mesmo do {self.marca}, mas vou mudar seu conceito')\n",
        "      self.gosto = 'sim'\n",
        "      print(f\"A marca do carro é {self.marca}, o motor é {self.motor}. Se eu gosto: {self.gosto}\")\n",
        "\n",
        "carro1 = Carro(\"Volks\", \"1.6\", \"azul\")\n",
        "carro2 = Carro('Toyota', '2.0', 'vermelho')\n",
        "#print(carro1.caracteristicas('sim'), carro2.caracteristicas('não'))\n",
        "carro1.caracteristicas()\n",
        "print(f'Imprimindo valor interno da função que é: {carro1.gosto}')#o valor interno da variavel gosto é sim\n",
        "carro2.caracteristicas('sim')"
      ]
    },
    {
      "cell_type": "markdown",
      "metadata": {
        "id": "f-n2z24RP9G5"
      },
      "source": [
        "## herança"
      ]
    },
    {
      "cell_type": "code",
      "execution_count": null,
      "metadata": {
        "id": "ffXOR1g5P9G6",
        "outputId": "d99be069-c6d1-4494-84cc-c0f2e4d5fe2e"
      },
      "outputs": [
        {
          "name": "stdout",
          "output_type": "stream",
          "text": [
            "O carro é Gol 2018, e sua cor é sem cor\n",
            "O carro é Onix 2019, e sua cor é vermelha\n"
          ]
        }
      ],
      "source": [
        "class Carro():\n",
        "    def __init__(self, nome, cor):\n",
        "        self.nome = nome\n",
        "        self.cor = cor\n",
        "    def descricao(self):\n",
        "        print(f'O carro é {self.nome}, e sua cor é {self.cor}')\n",
        "class Gol(Carro):\n",
        "    def __init__(self, nome, cor='sem cor'):\n",
        "        super().__init__(nome, cor)\n",
        "class Onix(Carro):\n",
        "    def __init__(self, nome, cor):\n",
        "        super().__init__(nome, cor)\n",
        "#instanciando classes\n",
        "gol = Gol('Gol 2018')\n",
        "onix = Onix('Onix 2019', 'branco')\n",
        "\n",
        "gol.descricao()\n",
        "onix.cor = 'vermelha'\n",
        "onix.descricao()"
      ]
    },
    {
      "cell_type": "markdown",
      "metadata": {
        "id": "GHgXFbd0P9G8"
      },
      "source": [
        "## polimorfismo"
      ]
    },
    {
      "cell_type": "markdown",
      "metadata": {
        "id": "h9DcgCMdP9G-"
      },
      "source": [
        "Tal recurso foi usado no exemplo anterior enquanto usávamos a função super( ) que é dedicada a possibilitar de forma simples que possamos sobrescrever ou estender métodos de uma classe para outra conforme a necessidade."
      ]
    },
    {
      "cell_type": "code",
      "execution_count": null,
      "metadata": {
        "id": "ucEnwFiCP9G_",
        "outputId": "4a5fa540-5a90-46d6-e347-bcee2c2a358e"
      },
      "outputs": [
        {
          "name": "stdout",
          "output_type": "stream",
          "text": [
            "branco\n",
            "2.0\n",
            "Seu carro é um Gol ano 2015, e sua cor é branco\n",
            "amarela\n",
            "Seu carro é um ferrari, e sua cor é amarela\n"
          ]
        }
      ],
      "source": [
        "class Carro():\n",
        "    def __init__(self, nome, cor):\n",
        "        self.nome = nome\n",
        "        self.cor = cor\n",
        "    def sobreocarro(self):\n",
        "        print(f'Seu carro é um {self.nome}, e sua cor é {self.cor}')\n",
        "class Gol(Carro):\n",
        "    def __init__(self, nome, cor):\n",
        "        super().__init__(nome, cor)\n",
        "\n",
        "#instanciando clase herdeira\n",
        "carro1 = Gol('Gol ano 2015', 'branco')\n",
        "print(carro1.cor)\n",
        "#novo atributo classe herdeira\n",
        "carro1.potencia = '2.0'\n",
        "print(carro1.potencia)\n",
        "#função da classe principal\n",
        "carro1.sobreocarro()\n",
        "\n",
        "#instanciando clase principal\n",
        "carro = Carro('ferrari', 'amarela')\n",
        "print(carro.cor)\n",
        "carro.sobreocarro()"
      ]
    },
    {
      "cell_type": "markdown",
      "metadata": {
        "id": "jY4YcV9mP9HB"
      },
      "source": [
        "## encapsulamento"
      ]
    },
    {
      "cell_type": "markdown",
      "metadata": {
        "id": "6W6ne4eJP9HC"
      },
      "source": [
        "Como em Python tudo é objeto, tudo é dinâmico, e a linguagem\n",
        "coloca o controle total em suas mãos, há a convenção de alguns autores de\n",
        "que o encapsulamento em Python seria mais um aspecto estético (ao bater o\n",
        "olho em qualquer underline duplo __ saber que ali é algo reservado ao\n",
        "sistema) do que de fato ter de se preocupar com o acesso e a manipulação\n",
        "daquele tipo de variável/objeto, dado ou arquivo"
      ]
    },
    {
      "cell_type": "code",
      "execution_count": null,
      "metadata": {
        "id": "l43lLHXPP9HE",
        "outputId": "4ca758bb-e5c1-47b2-bdcc-ec1ded4068a5"
      },
      "outputs": [
        {
          "name": "stdout",
          "output_type": "stream",
          "text": [
            "nome\n"
          ]
        }
      ],
      "source": [
        "variavel = 'ola, sou eu'\n",
        "__variavel__ = 'ola, seu de novo' #reservado ao sistema\n"
      ]
    },
    {
      "cell_type": "markdown",
      "metadata": {
        "id": "0G7Fg6-hP9HG"
      },
      "source": [
        "##classes"
      ]
    },
    {
      "cell_type": "code",
      "execution_count": null,
      "metadata": {
        "id": "MbGatSXfP9HH",
        "outputId": "ab9627cc-9d8b-4e43-aee9-bb194f54bec0"
      },
      "outputs": [
        {
          "name": "stdout",
          "output_type": "stream",
          "text": [
            "Indefinido Indefinido\n",
            "brayan Miguel\n",
            "brayan Ninguem\n"
          ]
        }
      ],
      "source": [
        "class Pessoa():\n",
        "    nome = 'Indefinido'\n",
        "brayan = Pessoa()\n",
        "miguel = Pessoa()\n",
        "print(brayan.nome, miguel.nome)\n",
        "\n",
        "brayan.nome, miguel.nome = 'brayan', 'Miguel'\n",
        "print(brayan.nome, miguel.nome)\n",
        "\n",
        "#tudo dependete da ordem de atribuição, foi mudada a classe, mas não altera os objetos anteriormente atribuidos\n",
        "Pessoa.nome = 'Ninguem'\n",
        "print(brayan.nome, Pessoa.nome)\n"
      ]
    },
    {
      "cell_type": "markdown",
      "metadata": {
        "id": "VYYksaEVP9HI"
      },
      "source": [
        "## Escopo de Classe"
      ]
    },
    {
      "cell_type": "code",
      "execution_count": null,
      "metadata": {
        "id": "h7A7mH5LP9HK",
        "outputId": "30346992-711a-41ed-9ec9-2cfeadaf17b2"
      },
      "outputs": [
        {
          "name": "stdout",
          "output_type": "stream",
          "text": [
            "Essa funcão init ja entra em execução\n",
            "brayan, cor parda\n"
          ]
        }
      ],
      "source": [
        "class Pessoa():\n",
        "    def __init__(self, nome, cor):\n",
        "        self.nome = nome\n",
        "        self.cor = cor\n",
        "        print('Essa funcão init ja entra em execução')\n",
        "    def falar(self):\n",
        "        print(self.nome + ', cor ' +self.cor)\n",
        "\n",
        "a = Pessoa('brayan', 'parda')\n",
        "a.falar()"
      ]
    },
    {
      "cell_type": "code",
      "execution_count": null,
      "metadata": {
        "id": "uMC-VSGOP9HL",
        "outputId": "50fec3ec-096a-4aef-8136-6b4bad5f6631"
      },
      "outputs": [
        {
          "name": "stdout",
          "output_type": "stream",
          "text": [
            "onix branco Banco de couro 4x2\n"
          ]
        }
      ],
      "source": [
        "tracao = ['2x2', '4x2', '4x4']\n",
        "class Veiculo():\n",
        "    def __init__(self, veiculo, cor, caracteristicas) -> None:\n",
        "        self.veiculo = veiculo\n",
        "        self.cor = cor\n",
        "        self.caracteristicas = caracteristicas\n",
        "        self.tracao = tracao#atribuindo valor de variavel externa\n",
        "    def dizer(self):\n",
        "        print(tracao)\n",
        "onix = Veiculo('onix', 'branco', 'Banco de couro')\n",
        "print(onix.veiculo, onix.cor, onix.caracteristicas, onix.tracao[1])#variavel tração teve valor atribuido de fora da classe\n"
      ]
    },
    {
      "cell_type": "code",
      "execution_count": null,
      "metadata": {
        "id": "JRpx9C87P9HM",
        "outputId": "73fd509b-74bc-4b4e-8c69-21e596d0b4ce"
      },
      "outputs": [
        {
          "name": "stdout",
          "output_type": "stream",
          "text": [
            "onix branco Banco de couro 4x2\n"
          ]
        }
      ],
      "source": [
        "lista = ['2x2', '4x2', '4x4']\n",
        "class Veiculo():\n",
        "    def __init__(self, veiculo, cor, caracteristicas, tracao) -> None:\n",
        "        self.veiculo = veiculo\n",
        "        self.cor = cor\n",
        "        self.caracteristicas = caracteristicas\n",
        "        self.tracao = tracao\n",
        "    def dizer(self):\n",
        "        print(tracao)\n",
        "onix = Veiculo('onix', 'branco', 'Banco de couro', lista[1])#passando parte da lista como atributo\n",
        "print(onix.veiculo, onix.cor, onix.caracteristicas, onix.tracao)\n"
      ]
    },
    {
      "cell_type": "markdown",
      "metadata": {
        "id": "bHjNqD0YP9HQ"
      },
      "source": [
        "## Classe com parâmetros opcionais"
      ]
    },
    {
      "cell_type": "code",
      "execution_count": null,
      "metadata": {
        "id": "L3qacfslP9HR",
        "outputId": "e7105b4f-534a-4f52-f6b5-69923ac980e4"
      },
      "outputs": [
        {
          "name": "stdout",
          "output_type": "stream",
          "text": [
            "['Brayan', 30, 'Masculino', 173, ['violão', 'programação']]\n"
          ]
        }
      ],
      "source": [
        "class Pessoa():\n",
        "    def __init__(self, nome, idade, sexo=False, altura=False):\n",
        "        self.nome = nome\n",
        "        self.idade = idade\n",
        "        self.sexo = sexo\n",
        "        self.altura = altura\n",
        "\n",
        "brayan = Pessoa('Brayan', 30)#apenas 2 argumentos eram necessários\n",
        "#variáveis atribuídas depois e mais nova atribuida\n",
        "brayan.sexo, brayan.altura, brayan.hoobys = 'Masculino', 173, ['violão', 'programação']\n",
        "lista = [brayan.nome, brayan.idade, brayan.sexo, brayan.altura, brayan.hoobys]\n",
        "print(lista)"
      ]
    },
    {
      "cell_type": "markdown",
      "metadata": {
        "id": "OElGxIxsP9HR"
      },
      "source": [
        "## Múltiplos métodos de classe"
      ]
    },
    {
      "cell_type": "code",
      "execution_count": null,
      "metadata": {
        "id": "Ey68VjcPP9HS",
        "outputId": "700c5e41-af81-4243-935a-1e8b439b07ee"
      },
      "outputs": [
        {
          "name": "stdout",
          "output_type": "stream",
          "text": [
            "Variável no escopo global ano: 2022\n",
            "Você nasceu em: 1990\n"
          ]
        }
      ],
      "source": [
        "class Pessoa():\n",
        "    ano = 2022 #acessivel em todo escopo da classe\n",
        "    def __init__(self, nome, sexo=False, altura=False):\n",
        "        self.nome = nome\n",
        "        self.idade = int(input('Qual sua idade'))\n",
        "        self.sexo = sexo\n",
        "        self.altura = altura\n",
        "    def nascimento(self):\n",
        "        print(f'Você nasceu em: {self.ano - self.idade}')#pegando variavel no escopo global da classe\n",
        "brayan = Pessoa('Brayan')\n",
        "print(f'Variável no escopo global ano: {brayan.ano}')#variavel escopo global\n",
        "brayan.nascimento()"
      ]
    },
    {
      "cell_type": "markdown",
      "metadata": {
        "id": "uPt6hXVcP9HT"
      },
      "source": [
        "## Interação entre métodos de classe\n",
        "página 311 ebook 6 em 1"
      ]
    },
    {
      "cell_type": "code",
      "execution_count": null,
      "metadata": {
        "id": "AjKwrvcHP9HU",
        "outputId": "1f70ef27-7593-4192-98b7-789a0137b789"
      },
      "outputs": [
        {
          "name": "stdout",
          "output_type": "stream",
          "text": [
            "Bem vindo brayan você está logado\n",
            "Você já está logado\n",
            "Você foi deslogado\n"
          ]
        }
      ],
      "source": [
        "class Pessoa():\n",
        "    def __init__(self, nome, login=False, logoff=False):\n",
        "        self.nome = nome\n",
        "        self.login = login\n",
        "        self.logoff = logoff\n",
        "    def logar(self):\n",
        "        if self.login == True:\n",
        "            print('Você já está logado')\n",
        "            return\n",
        "        print(f'Bem vindo {self.nome} você está logado')\n",
        "        self.login = True\n",
        "    def deslogar(self):\n",
        "        print('Você foi deslogado')\n",
        "        self.login = False\n",
        "usuario = Pessoa('brayan')\n",
        "usuario.logar()#primeiro logar\n",
        "usuario.logar()#já está logado\n",
        "usuario.deslogar()#deslogar"
      ]
    },
    {
      "cell_type": "markdown",
      "metadata": {
        "id": "CBeyYAlMP9HV"
      },
      "source": [
        "## Alterando status de variavel login"
      ]
    },
    {
      "cell_type": "code",
      "execution_count": null,
      "metadata": {
        "id": "s8eenetmP9HV",
        "outputId": "130934cb-f052-4ebe-960e-a893e04d6c26"
      },
      "outputs": [
        {
          "name": "stdout",
          "output_type": "stream",
          "text": [
            "Você já estado deslogado\n",
            "Agora você está logado\n",
            "Brayan já está logado\n",
            "Brayan deslogado\n",
            "Você já estado deslogado\n"
          ]
        }
      ],
      "source": [
        "class Pessoa():\n",
        "    def __init__(self, nome, login=False, logoff=False):\n",
        "        self.nome = nome\n",
        "        self.login = login\n",
        "        self.logoff = logoff\n",
        "    def logar(self):\n",
        "        if self.login:\n",
        "            print(f'{self.nome} já está logado')\n",
        "            return\n",
        "        self.login = True\n",
        "        print('Agora você está logado')\n",
        "    def deslogar(self):\n",
        "        if not self.login:\n",
        "            print('Você já estado deslogado')\n",
        "            return\n",
        "        self.login = False\n",
        "        print(f'{self.nome} deslogado')\n",
        "        \n",
        "usuario = Pessoa('Brayan')\n",
        "usuario.deslogar()\n",
        "usuario.logar()\n",
        "usuario.logar()\n",
        "usuario.deslogar()\n",
        "usuario.deslogar()"
      ]
    },
    {
      "cell_type": "markdown",
      "metadata": {
        "id": "VbV27yRcP9HW"
      },
      "source": [
        "## Métodos de classe estáticos e dinâmicos"
      ]
    },
    {
      "cell_type": "markdown",
      "metadata": {
        "id": "ofn_r-7qP9HZ"
      },
      "source": [
        "### @classmethod\n",
        "\n",
        "Um método de classe é um método que está vinculado à classe e não ao objeto da classe.\n",
        "Eles têm acesso ao estado da classe, pois leva um parâmetro de classe que aponta para a classe e não a instância do objeto.\n",
        "Ele pode modificar um estado de classe que se aplicaria a todas as instâncias da classe. Por exemplo, ele pode modificar uma variável de classe que será aplicável a todas as instâncias."
      ]
    },
    {
      "cell_type": "code",
      "execution_count": 57,
      "metadata": {
        "id": "erYDTuZYP9Hf",
        "outputId": "f3d17409-53cf-499c-f705-ed91aed6b431"
      },
      "outputs": [],
      "source": [
        "from datetime import date \n",
        "   \n",
        "class Person: \n",
        "    def __init__(self, name, age, cor=False): \n",
        "        self.name = name \n",
        "        self.age = age \n",
        "        self.cor = cor\n",
        "       \n",
        "    @classmethod#método de classe\n",
        "    def fromBirthYear(cls, name, year, cor=False): \n",
        "        return cls(name, date.today().year - year, cor)#variáveis retornadas para instanciar classe, segue ordem dos atributos\n",
        "    \n",
        "    def isAdult(self, age=False): \n",
        "        if age:\n",
        "            return f\"{self.name} tem {self.age} anos: resultado: {self.age >= 18}\"\n",
        "            self.age = age\n",
        "        if self.age:\n",
        "            return f\"{self.name} tem {self.age} anos: resultado: {self.age >= 18}\"\n",
        "        else:\n",
        "            return f\"Não há dados sobre idade\"\n",
        "        \n",
        "    @staticmethod#só esperar o valor a ser repassado, sem self\n",
        "    def e_adulto(age): #pega a variavel instanciada através da classe\n",
        "        return age >= 18\n",
        "   \n",
        "def main():\n",
        "    pessoa1 = Person('Brayan', 30) \n",
        "    print(pessoa1.isAdult(20))#necessita de valor a ser passado\n",
        "    print(pessoa1.e_adulto())#pega variavel instanciad\n",
        "    print('------------')\n",
        "    pessoa2 = Person.fromBirthYear('Miguel', 2017, 'branco')\n",
        "    print(pessoa2.isAdult(2))\n",
        "    print(pessoa2.age)\n",
        "    print(pessoa2.name)\n",
        "    print(pessoa2.cor)\n",
        "    print('------------')\n",
        "    Person.isAdult(18)\n",
        "\n",
        "if (__name__ == '__main__'):\n",
        "    #main()\n",
        "    pass\n"
      ]
    },
    {
      "cell_type": "code",
      "execution_count": 58,
      "metadata": {
        "id": "L8PH9gbkhOOq",
        "outputId": "478dc4d6-0483-4573-d037-40168bcf7c97"
      },
      "outputs": [
        {
          "name": "stdout",
          "output_type": "stream",
          "text": [
            "1992\n",
            "2017\n",
            "25\n",
            "___verificar se é casado____\n",
            "True\n",
            "False\n",
            "___________\n",
            "['programação', 'música']\n",
            "['programação', 'música']\n",
            "___________\n",
            "funcionário público\n",
            "estudante\n"
          ]
        }
      ],
      "source": [
        "\n",
        "from datetime import date \n",
        "class Idade():\n",
        "  def __init__(self, nome, nascimento, casado):#em que pese a variavel casado não seja optativa, o método class retorna um valor para ela.\n",
        "    self.nome = nome\n",
        "    self.nascimento = nascimento\n",
        "    self.casado = casado\n",
        "  \n",
        "  @classmethod\n",
        "  def nasceu_em(cls, nome, idade):\n",
        "    ano_nasci = date.today().year - idade\n",
        "    if ano_nasci <= (date.today().year - 19):#recebe status casado como True caso seja > de 18 anos.\n",
        "      casado = True\n",
        "    else:\n",
        "      casado = False\n",
        "    return cls(nome, ano_nasci, casado)\n",
        "    #embora a função não solicite inicialmente todos os parametros que a classe principal solicita, \n",
        "    # a função cria, através de calculo, uma nova variável e retorna seu valor\n",
        "  \n",
        "brayan = Idade.nasceu_em('brayan', 30)\n",
        "miguel = Idade.nasceu_em('miguel', 5)\n",
        "\n",
        "#verificando ano de nascimento\n",
        "print(brayan.nascimento)#1992\n",
        "print(miguel.nascimento)#2017\n",
        "print(miguel.nascimento - brayan.nascimento)#25 anos\n",
        "\n",
        "\n",
        "#verificar se é casado, casado (se for maior de 18 anos)\n",
        "print('___verificar se é casado____')\n",
        "print(brayan.casado)#true pois brayan é maior\n",
        "print(miguel.casado)#false\n",
        "\n",
        "#setando novo atributu para classe, isso atribui atributos a todas as instâncias da classe\n",
        "print('___________')\n",
        "setattr(Idade, 'hobbs', ['programação', 'música'])#modificando a classe pricipal\n",
        "print(brayan.hobbs)#a instância da classe recebe os novos atributos\n",
        "print(miguel.hobbs)#tanto brayan como miguel receberam os novos atributos (hoobs) pois são instancias da classe principal\n",
        "\n",
        "#criando atributos individuais para cada isntancia de classe\n",
        "print('___________')\n",
        "brayan.profissao = 'funcionário público'\n",
        "miguel.profissao = 'estudante'\n",
        "\n",
        "for profissao in [brayan.profissao, miguel.profissao]:\n",
        "  print(profissao)\n"
      ]
    },
    {
      "cell_type": "markdown",
      "metadata": {
        "id": "Q0WSe0EUP9Hg"
      },
      "source": [
        "### @staticmethod \n",
        "Em geral, os métodos estáticos não sabem nada sobre o estado da classe. Eles são métodos do tipo utilitário que usam alguns parâmetros e funcionam com base nesses parâmetros. "
      ]
    },
    {
      "cell_type": "code",
      "execution_count": 58,
      "metadata": {
        "colab": {
          "base_uri": "https://localhost:8080/"
        },
        "id": "N11ABiNBP9Hg",
        "outputId": "380b6b2d-da08-4292-d5af-dac70cc577f3"
      },
      "outputs": [
        {
          "name": "stdout",
          "output_type": "stream",
          "text": [
            "Brayan 30\n",
            "Miguel 30\n",
            "Contador é 1. Sorteio entre 1 e 5\n",
            "(5, 2)\n",
            "Contador é 2. Sorteio entre 2 e 10\n",
            "(10, 4)\n",
            "Contador é 3. Sorteio entre 3 e 15\n",
            "(10, 13)\n",
            "Contador é 4. Sorteio entre 4 e 20\n",
            "(13, 19)\n",
            "Contador é 5. Sorteio entre 5 e 25\n",
            "(23, 22)\n",
            "Contador é 6. Sorteio entre 6 e 30\n",
            "(26, 26)\n",
            "Contador é 7. Sorteio entre 7 e 35\n",
            "(25, 8)\n",
            "Contador é 8. Sorteio entre 8 e 40\n",
            "(21, 30)\n",
            "Contador é 9. Sorteio entre 9 e 45\n",
            "(19, 12)\n"
          ]
        }
      ],
      "source": [
        "from random import randint\n",
        "class Anonimo:\n",
        "  def __init__(self, nome=\"Brayan\", idade=30):\n",
        "    self.nome = nome\n",
        "    self.idade = idade\n",
        "    \n",
        "  def quem(self, nome=False):\n",
        "    if nome:\n",
        "      self.nome = nome\n",
        "    print(self.nome, self.idade)\n",
        "  @staticmethod\n",
        "  def gerar(x=1, y=10):\n",
        "        return randint(x, y), randint(x, y)\n",
        "pessoa = Anonimo()\n",
        "pessoa.quem('')\n",
        "pessoa.quem('Miguel')\n",
        "for i in range(1, 10):\n",
        "  print(\"Contador é {}. Sorteio entre {} e {}\".format(i, i, i*5))\n",
        "  print(pessoa.gerar(i,i*5))"
      ]
    },
    {
      "cell_type": "code",
      "execution_count": null,
      "metadata": {
        "id": "ueC3osBSjJds"
      },
      "outputs": [],
      "source": []
    }
  ],
  "metadata": {
    "colab": {
      "collapsed_sections": [],
      "include_colab_link": true,
      "name": "9 - Orientação_a_objetos.ipynb",
      "provenance": [],
      "toc_visible": true
    },
    "kernelspec": {
      "display_name": "Python 3.9.6 64-bit",
      "language": "python",
      "name": "python3"
    },
    "language_info": {
      "codemirror_mode": {
        "name": "ipython",
        "version": 3
      },
      "file_extension": ".py",
      "mimetype": "text/x-python",
      "name": "python",
      "nbconvert_exporter": "python",
      "pygments_lexer": "ipython3",
      "version": "3.9.6"
    },
    "vscode": {
      "interpreter": {
        "hash": "31f2aee4e71d21fbe5cf8b01ff0e069b9275f58929596ceb00d14d90e3e16cd6"
      }
    }
  },
  "nbformat": 4,
  "nbformat_minor": 0
}
