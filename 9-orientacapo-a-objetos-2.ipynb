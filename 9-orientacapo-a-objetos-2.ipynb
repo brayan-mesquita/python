{
  "cells": [
    {
      "cell_type": "markdown",
      "metadata": {},
      "source": [
        "## Associação de classes"
      ]
    },
    {
      "cell_type": "code",
      "execution_count": 5,
      "metadata": {},
      "outputs": [],
      "source": [
        "class Usuario:\n",
        "    def __init__(self, nome):\n",
        "        self.__nome = nome\n",
        "        self.__logar = None\n",
        "    @property\n",
        "    def nome(self):\n",
        "        return self.__nome\n",
        "    @property\n",
        "    def logar(self):\n",
        "        return self.__logar\n",
        "    @logar.setter\n",
        "    def logar(self, logar):\n",
        "        self.__logar = logar\n",
        "class Identificador:\n",
        "    def __init__(self, numero):\n",
        "        self.__numero = numero\n",
        "    @property\n",
        "    def numero(self):\n",
        "        return self.__numero\n",
        "    def logar(self):\n",
        "        print('Logando no sistema..')\n",
        "    def teste(self):\n",
        "        print('imprimir identificador')"
      ]
    },
    {
      "cell_type": "code",
      "execution_count": 7,
      "metadata": {},
      "outputs": [
        {
          "name": "stdout",
          "output_type": "stream",
          "text": [
            "Logando no sistema..\n"
          ]
        }
      ],
      "source": [
        "usuario = Usuario('Brayan')\n",
        "identificador = Identificador('0001')\n",
        "usuario.logar = identificador#a classe identificador esta na funcao logar da classe usuario\n",
        "usuario.logar.logar()#escopos: usurio, funcao logar, identificador, funcao logar"
      ]
    },
    {
      "cell_type": "code",
      "execution_count": null,
      "metadata": {},
      "outputs": [],
      "source": []
    }
  ],
  "metadata": {
    "colab": {
      "collapsed_sections": [],
      "include_colab_link": true,
      "name": "9 - Orientação_a_objetos.ipynb",
      "provenance": [],
      "toc_visible": true
    },
    "kernelspec": {
      "display_name": "Python 3.9.6 64-bit",
      "language": "python",
      "name": "python3"
    },
    "language_info": {
      "codemirror_mode": {
        "name": "ipython",
        "version": 3
      },
      "file_extension": ".py",
      "mimetype": "text/x-python",
      "name": "python",
      "nbconvert_exporter": "python",
      "pygments_lexer": "ipython3",
      "version": "3.9.6"
    },
    "vscode": {
      "interpreter": {
        "hash": "31f2aee4e71d21fbe5cf8b01ff0e069b9275f58929596ceb00d14d90e3e16cd6"
      }
    }
  },
  "nbformat": 4,
  "nbformat_minor": 0
}
