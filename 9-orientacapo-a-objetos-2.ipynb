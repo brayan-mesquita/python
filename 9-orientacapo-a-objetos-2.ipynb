{
  "cells": [
    {
      "cell_type": "markdown",
      "metadata": {},
      "source": [
        "## Associação de classes\n",
        "Começando o entendimento pela sua lógica, anteriormente vimos o que basicamente é a associação de classes, onde temos mais de uma classe, elas podem compartilhar métodos e atributos entre si ao serem instanciadas, porém uma pode ser executada independentemente da outra."
      ]
    },
    {
      "cell_type": "code",
      "execution_count": 1,
      "metadata": {},
      "outputs": [],
      "source": [
        "class Usuario:\n",
        "    def __init__(self, nome):\n",
        "        self.__nome = nome\n",
        "        self.__logar = None\n",
        "    @property\n",
        "    def nome(self):\n",
        "        return self.__nome\n",
        "    @property\n",
        "    def logar(self):\n",
        "        return self.__logar\n",
        "    @logar.setter\n",
        "    def logar(self, logar):\n",
        "        self.__logar = logar\n",
        "class Identificador:\n",
        "    def __init__(self, numero):\n",
        "        self.__numero = numero\n",
        "    @property\n",
        "    def numero(self):\n",
        "        return self.__numero\n",
        "    def logar(self):\n",
        "        print('Logando no sistema..')\n",
        "    def teste(self):\n",
        "        print('imprimir identificador')"
      ]
    },
    {
      "cell_type": "code",
      "execution_count": 8,
      "metadata": {},
      "outputs": [
        {
          "name": "stdout",
          "output_type": "stream",
          "text": [
            "Logando no sistema..\n"
          ]
        },
        {
          "data": {
            "text/plain": [
              "'0001'"
            ]
          },
          "execution_count": 8,
          "metadata": {},
          "output_type": "execute_result"
        }
      ],
      "source": [
        "usuario = Usuario('Brayan')\n",
        "identificador = Identificador('0001')\n",
        "usuario.logar = identificador#a classe identificador esta na funcao logar da classe usuario\n",
        "usuario.logar.logar()#escopos: usuario, funcao logar, identificador, funcao logar\n",
        "usuario.logar.numero"
      ]
    },
    {
      "cell_type": "markdown",
      "metadata": {},
      "source": [
        "## Agregação e composição de classes\n",
        "Já quando falamos em agregação e composição, o laço entre essas classes e suas estruturas passa a ser tão forte que uma depende da outra.\n",
        "Raciocine que quando estamos realizando a composição de uma classe, uma classe tomará posse dos objetos das outras classes, de modo que se algo corromper essa classe principal, as outras param de funcionar também."
      ]
    },
    {
      "cell_type": "code",
      "execution_count": 39,
      "metadata": {},
      "outputs": [],
      "source": [
        "class Contato:\n",
        "    def __init__(self, residencial=None, celular=None):\n",
        "        self.residencial = residencial\n",
        "        self.celular = celular\n",
        "class Cliente:\n",
        "    def __init__(self, nome, idade, fone=None):\n",
        "        self.nome = nome\n",
        "        self.idade = idade\n",
        "        self.fone = []\n",
        "    def addFone(self, residencial=None, celular=None):\n",
        "        self.fone.append(Contato(residencial, celular))\n",
        "    def listaFone(self):\n",
        "        for fone in self.fone:\n",
        "            print(fone.residencial, fone.celular)"
      ]
    },
    {
      "cell_type": "code",
      "execution_count": 50,
      "metadata": {},
      "outputs": [
        {
          "name": "stdout",
          "output_type": "stream",
          "text": [
            "999909596 990\n",
            "992 991\n"
          ]
        }
      ],
      "source": [
        "brayan = Cliente('Brayan', 30)\n",
        "brayan.addFone('999909596', '990')\n",
        "brayan.listaFone()\n",
        "patricia = Cliente('Patricia', 30)\n",
        "patricia.addFone('992', '991')\n",
        "patricia.listaFone()"
      ]
    },
    {
      "cell_type": "markdown",
      "metadata": {},
      "source": [
        "## Herança multipla"
      ]
    },
    {
      "cell_type": "code",
      "execution_count": 2,
      "metadata": {},
      "outputs": [],
      "source": [
        "class Mercadoria:\n",
        "    def __init__(self, nome, preco):\n",
        "        self.nome = nome\n",
        "        self.preco = preco\n",
        "        self.promo = True\n",
        "    def funcaomercadoria(self):\n",
        "        print(self.promo)\n",
        "class Carnes(Mercadoria):\n",
        "    def __init__(self, tipo, peso):\n",
        "        self.tipo = tipo\n",
        "        self.peso = peso\n",
        "class Utensilios:\n",
        "    def __init__(self, espetos, carvao):\n",
        "        self.espetos = espetos\n",
        "        self.carvao = carvao\n",
        "        self.carvao_tamanho = '5kg'\n",
        "class Kitchurras(Carnes, Utensilios):\n",
        "    pass"
      ]
    },
    {
      "cell_type": "code",
      "execution_count": 3,
      "metadata": {},
      "outputs": [],
      "source": [
        "pacote1 = Kitchurras('Carne', '1kg')\n",
        "#pacote1.nome = 'Costela'\n",
        "#pacote1.preco = 14.90\n",
        "# pacote1.peso = '1kg'\n",
        "# pacote1.carvao = True\n",
        "pacote1.espetos = 'Carne, Frango'"
      ]
    },
    {
      "cell_type": "code",
      "execution_count": 5,
      "metadata": {},
      "outputs": [
        {
          "ename": "AttributeError",
          "evalue": "'Kitchurras' object has no attribute 'carvao_tamanho'",
          "output_type": "error",
          "traceback": [
            "\u001b[0;31m---------------------------------------------------------------------------\u001b[0m",
            "\u001b[0;31mAttributeError\u001b[0m                            Traceback (most recent call last)",
            "Cell \u001b[0;32mIn [5], line 1\u001b[0m\n\u001b[0;32m----> 1\u001b[0m \u001b[43mpacote1\u001b[49m\u001b[38;5;241;43m.\u001b[39;49m\u001b[43mcarvao_tamanho\u001b[49m\n",
            "\u001b[0;31mAttributeError\u001b[0m: 'Kitchurras' object has no attribute 'carvao_tamanho'"
          ]
        }
      ],
      "source": [
        "    pacote1.carvao_tamanho"
      ]
    },
    {
      "cell_type": "code",
      "execution_count": null,
      "metadata": {},
      "outputs": [],
      "source": []
    }
  ],
  "metadata": {
    "colab": {
      "collapsed_sections": [],
      "include_colab_link": true,
      "name": "9 - Orientação_a_objetos.ipynb",
      "provenance": [],
      "toc_visible": true
    },
    "kernelspec": {
      "display_name": "Python 3.9.6 64-bit",
      "language": "python",
      "name": "python3"
    },
    "language_info": {
      "codemirror_mode": {
        "name": "ipython",
        "version": 3
      },
      "file_extension": ".py",
      "mimetype": "text/x-python",
      "name": "python",
      "nbconvert_exporter": "python",
      "pygments_lexer": "ipython3",
      "version": "3.9.6"
    },
    "vscode": {
      "interpreter": {
        "hash": "586fd239386f65dd1df29f80c8f5ce5814ce933742fbcfef3a47f071eb6a26a0"
      }
    }
  },
  "nbformat": 4,
  "nbformat_minor": 0
}
