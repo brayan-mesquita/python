{
 "cells": [
  {
   "cell_type": "code",
   "execution_count": 17,
   "metadata": {},
   "outputs": [
    {
     "name": "stdout",
     "output_type": "stream",
     "text": [
      "{1, 2, 3, 4}\n",
      "{2, 3}\n",
      "False\n",
      "True\n",
      "{1}\n",
      "{4}\n"
     ]
    }
   ],
   "source": [
    "\n",
    "a = {1, 2, 3}\n",
    "b = {2, 3, 4}\n",
    "\n",
    "#união de conjutos\n",
    "print(a.union(b))\n",
    "\n",
    "#interceção\n",
    "print(a.intersection(b))\n",
    "\n",
    "#contido\n",
    "print(a <= b)#false\n",
    "print({4} <= b)#true\n",
    "\n",
    "#direferença\n",
    "c = a - b#o que tem em a que não tem em b\n",
    "print(c)\n",
    "c = b - a # vice-versa\n",
    "print(c)"
   ]
  },
  {
   "cell_type": "code",
   "execution_count": null,
   "metadata": {},
   "outputs": [],
   "source": []
  }
 ],
 "metadata": {
  "kernelspec": {
   "display_name": "Python 3.10.5 64-bit (windows store)",
   "language": "python",
   "name": "python3"
  },
  "language_info": {
   "codemirror_mode": {
    "name": "ipython",
    "version": 3
   },
   "file_extension": ".py",
   "mimetype": "text/x-python",
   "name": "python",
   "nbconvert_exporter": "python",
   "pygments_lexer": "ipython3",
   "version": "3.10.5"
  },
  "orig_nbformat": 4,
  "vscode": {
   "interpreter": {
    "hash": "c3c8f4ea901ed6360110bdb099c00bd4a3f31170432fdd3c86e0bc3296bb5d07"
   }
  }
 },
 "nbformat": 4,
 "nbformat_minor": 2
}
