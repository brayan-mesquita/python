{
  "cells": [
    {
      "cell_type": "markdown",
      "metadata": {
        "id": "view-in-github",
        "colab_type": "text"
      },
      "source": [
        "<a href=\"https://colab.research.google.com/github/brayan-mesquita/python/blob/main/python_estrutura/7-strings.ipynb\" target=\"_parent\"><img src=\"https://colab.research.google.com/assets/colab-badge.svg\" alt=\"Open In Colab\"/></a>"
      ]
    },
    {
      "cell_type": "code",
      "execution_count": null,
      "metadata": {
        "colab": {
          "base_uri": "https://localhost:8080/"
        },
        "id": "Ne8m2ZV1_ylY",
        "outputId": "887b0962-cd0e-41fb-ecae-ec52420874a5"
      },
      "outputs": [
        {
          "name": "stdout",
          "output_type": "stream",
          "text": [
            "6\n",
            "Braya R B\n",
            "B\n",
            "r\n",
            "a\n",
            "y\n",
            "a\n",
            "n\n"
          ]
        }
      ],
      "source": [
        "nome = 'Brayan'\n",
        "print(len(nome))\n",
        "print(nome[0:5], nome[1].capitalize(), nome[-6])\n",
        "for i in nome:\n",
        "  print(i)"
      ]
    },
    {
      "cell_type": "code",
      "execution_count": null,
      "metadata": {
        "id": "HILv465VadpX",
        "outputId": "11681d42-7f4b-4848-c6e9-966819865242"
      },
      "outputs": [
        {
          "name": "stdout",
          "output_type": "stream",
          "text": [
            "['b', 'r', 'a', 'y', 'a', 'n']\n"
          ]
        }
      ],
      "source": [
        "lista_nome = list('brayan')\n",
        "print(lista_nome)"
      ]
    },
    {
      "cell_type": "markdown",
      "metadata": {
        "id": "a2OkO3DYadpY"
      },
      "source": [
        "##pequenos programas"
      ]
    },
    {
      "cell_type": "code",
      "execution_count": null,
      "metadata": {
        "id": "EmhC3plhadpZ",
        "outputId": "86ed54f9-9c08-47d8-f62c-557ce77000d9"
      },
      "outputs": [
        {
          "name": "stdout",
          "output_type": "stream",
          "text": [
            "cmpsc\n",
            "bfjps\n"
          ]
        }
      ],
      "source": [
        "def removeVowels(s):\n",
        "    vowels = \"aeiouAEIOU\"\n",
        "    sWithoutVowels = \"\"\n",
        "    for eachChar in s:\n",
        "        if eachChar not in vowels:\n",
        "            sWithoutVowels = sWithoutVowels + eachChar\n",
        "    return sWithoutVowels\n",
        "\n",
        "print(removeVowels(\"compsci\"))\n",
        "print(removeVowels(\"aAbEefIijOopUus\"))"
      ]
    },
    {
      "cell_type": "code",
      "source": [
        "nome = [\"Brayan Soares\", \"Miguel Soares Nogueira\"]\n",
        "nome = [nome.split(' ') for nome in nome]\n",
        "print(nome[1][-1])#Nogueira\n",
        "print(nome)#[['Brayan', 'Soares'], ['Miguel', 'Soares']]\n",
        "print(nome[1][0].upper())#MIGUEL\n",
        "print([nome.split(' ') for nome in nome[1]])#[['Miguel'], ['Soares']])"
      ],
      "metadata": {
        "id": "ytDLhJCwafLi",
        "outputId": "558cdf81-1064-4664-af0d-3528a7c1faa7",
        "colab": {
          "base_uri": "https://localhost:8080/"
        }
      },
      "execution_count": 1,
      "outputs": [
        {
          "output_type": "stream",
          "name": "stdout",
          "text": [
            "Nogueira\n",
            "[['Brayan', 'Soares'], ['Miguel', 'Soares', 'Nogueira']]\n",
            "MIGUEL\n",
            "[['Miguel'], ['Soares'], ['Nogueira']]\n"
          ]
        }
      ]
    },
    {
      "cell_type": "code",
      "source": [
        "name = 'brayan'\n",
        "name_list = list(name)\n",
        "'-'.join(name_list)"
      ],
      "metadata": {
        "id": "MBW27gczanlD",
        "outputId": "a922c2ce-8f2f-4ae7-d73c-ba166a6bbdff",
        "colab": {
          "base_uri": "https://localhost:8080/",
          "height": 36
        }
      },
      "execution_count": 4,
      "outputs": [
        {
          "output_type": "execute_result",
          "data": {
            "text/plain": [
              "'b-r-a-y-a-n'"
            ],
            "application/vnd.google.colaboratory.intrinsic+json": {
              "type": "string"
            }
          },
          "metadata": {},
          "execution_count": 4
        }
      ]
    }
  ],
  "metadata": {
    "colab": {
      "name": "7 - Strings.ipynb",
      "provenance": [],
      "include_colab_link": true
    },
    "kernelspec": {
      "display_name": "Python 3.8.10 64-bit",
      "language": "python",
      "name": "python3"
    },
    "language_info": {
      "codemirror_mode": {
        "name": "ipython",
        "version": 3
      },
      "file_extension": ".py",
      "mimetype": "text/x-python",
      "name": "python",
      "nbconvert_exporter": "python",
      "pygments_lexer": "ipython3",
      "version": "3.8.10"
    },
    "vscode": {
      "interpreter": {
        "hash": "31f2aee4e71d21fbe5cf8b01ff0e069b9275f58929596ceb00d14d90e3e16cd6"
      }
    }
  },
  "nbformat": 4,
  "nbformat_minor": 0
}