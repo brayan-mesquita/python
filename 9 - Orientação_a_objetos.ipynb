{
 "cells": [
  {
   "cell_type": "markdown",
   "metadata": {
    "colab_type": "text",
    "id": "view-in-github"
   },
   "source": [
    "<a href=\"https://colab.research.google.com/github/brayan-mesquita/Python/blob/main/9%20-%20Orienta%C3%A7%C3%A3o_a_objetos.ipynb\" target=\"_parent\"><img src=\"https://colab.research.google.com/assets/colab-badge.svg\" alt=\"Open In Colab\"/></a>"
   ]
  },
  {
   "cell_type": "code",
   "execution_count": 1,
   "metadata": {
    "colab": {
     "base_uri": "https://localhost:8080/",
     "height": 38
    },
    "id": "iYxbxh9sj0qr",
    "outputId": "1fb271d8-9b00-48d6-97c7-a3b71243a9c7"
   },
   "outputs": [
    {
     "name": "stdout",
     "output_type": "stream",
     "text": [
      "brayan\n",
      "M\n",
      "30\n",
      "['contabilidade', 'programação', 'ciência de dados']\n",
      "brayan\n"
     ]
    }
   ],
   "source": [
    "class Pessoa():\n",
    "  nome = 'brayan'\n",
    "  idade = 19\n",
    "humano = Pessoa()\n",
    "print(humano.nome)\n",
    "#criando atributo\n",
    "humano.sexo = 'M'\n",
    "print(humano.sexo)\n",
    "#alterando\n",
    "humano.idade = 30\n",
    "print(humano.idade)\n",
    "#adicionando atributos em lista\n",
    "humano.conhecimentos = ['contabilidade', 'programação', 'ciência de dados']\n",
    "print(humano.conhecimentos)\n",
    "#adicionando atributos em dicionário\n",
    "humano.contatos = {'992':'brayan', '993':'miguel'}\n",
    "print(humano.contatos['992'])"
   ]
  },
  {
   "cell_type": "markdown",
   "metadata": {},
   "source": [
    "## funções setattr e delattr"
   ]
  },
  {
   "cell_type": "code",
   "execution_count": 4,
   "metadata": {},
   "outputs": [
    {
     "name": "stdout",
     "output_type": "stream",
     "text": [
      "seu nome é alguem, e você tem 0 anos\n",
      "seu nome é brayan, e você tem 30 anos\n",
      "seu nome é Patrícia, e você tem 41 anos\n",
      "seu nome é miguel, e você tem 5 anos\n",
      "seu nome é miguel, e você tem 18 anos\n",
      "['programação', 'análise de dados']\n"
     ]
    }
   ],
   "source": [
    "class Pessoa():\n",
    "    def __init__(self, nome='alguem', idade='0'):\n",
    "        self.nome = nome\n",
    "        self.idade = idade\n",
    "    def falarnome(self):\n",
    "        print(f'seu nome é {self.nome}, e você tem {self.idade} anos')\n",
    "humano = Pessoa()#inicialmente foi atribuido as nomes padrões\n",
    "humano.falarnome()\n",
    "#passando parametros\n",
    "humano.nome, humano.idade = 'brayan', '30'\n",
    "#passando parametros 2 forma\n",
    "serhumano = Pessoa('Patrícia', '41')\n",
    "humano.falarnome()\n",
    "serhumano.falarnome()\n",
    "\n",
    "#mudando nome\n",
    "setattr(humano, 'nome', 'Miguel')\n",
    "setattr(humano, 'idade', '5')\n",
    "humano.falarnome()\n",
    "\n",
    "#apagando atributo\n",
    "delattr(humano, 'idade',)#apaga o atributo\n",
    "\n",
    "#setando atributo com valor\n",
    "setattr(humano, 'idade', '18')\n",
    "humano.falarnome()\n",
    "\n",
    "#setando novo atributo\n",
    "setattr(humano, 'hoobs', ['programação', 'análise de dados'])\n",
    "print(humano.hoobs)"
   ]
  },
  {
   "cell_type": "code",
   "execution_count": 18,
   "metadata": {
    "colab": {
     "base_uri": "https://localhost:8080/"
    },
    "id": "OVfEciHhlCmN",
    "outputId": "dcc24b22-a880-4f61-c297-d8094a49a8fa"
   },
   "outputs": [
    {
     "name": "stdout",
     "output_type": "stream",
     "text": [
      "A marca do carro é Volks, o motor é 1.6. Se eu gosto: não\n",
      "Você não gostava mesmo do Volks, mas vou mudar seu conceito\n",
      "A marca do carro é Volks, o motor é 1.6. Se eu gosto: sim\n",
      "Imprimindo valor interno da funçãosim\n",
      "A marca do carro é Toyota, o motor é 2.0. Se eu gosto: sim\n"
     ]
    }
   ],
   "source": [
    "class Carro():\n",
    "  def __init__(self, marca, motor, cor):\n",
    "    self.marca = marca\n",
    "    self.motor = motor\n",
    "    self.cor = motor\n",
    "  def caracteristicas(self, gosto='não'):#atributo especifico para esta função, valor padrão não\n",
    "    self.gosto = gosto\n",
    "    print(f\"A marca do carro é {self.marca}, o motor é {self.motor}. Se eu gosto: {self.gosto}\")\n",
    "    if 'não' == self.gosto:\n",
    "      print(f'Você não gostava mesmo do {self.marca}, mas vou mudar seu conceito')\n",
    "      self.gosto = 'sim'\n",
    "      print(f\"A marca do carro é {self.marca}, o motor é {self.motor}. Se eu gosto: {self.gosto}\")\n",
    "\n",
    "carro1 = Carro(\"Volks\", \"1.6\", \"azul\")\n",
    "carro2 = Carro('Toyota', '2.0', 'vermelho')\n",
    "#print(carro1.caracteristicas('sim'), carro2.caracteristicas('não'))\n",
    "carro1.caracteristicas()\n",
    "print(f'Imprimindo valor interno da função que é: {carro1.gosto}')#o valor interno da variavel gosto é sim\n",
    "carro2.caracteristicas('sim')"
   ]
  },
  {
   "cell_type": "markdown",
   "metadata": {},
   "source": [
    "## herança"
   ]
  },
  {
   "cell_type": "code",
   "execution_count": 16,
   "metadata": {},
   "outputs": [
    {
     "name": "stdout",
     "output_type": "stream",
     "text": [
      "O carro é Gol 2018, e sua cor é sem cor\n",
      "O carro é Onix 2019, e sua cor é vermelha\n"
     ]
    }
   ],
   "source": [
    "class Carro():\n",
    "    def __init__(self, nome, cor):\n",
    "        self.nome = nome\n",
    "        self.cor = cor\n",
    "    def descricao(self):\n",
    "        print(f'O carro é {self.nome}, e sua cor é {self.cor}')\n",
    "class Gol(Carro):\n",
    "    def __init__(self, nome, cor='sem cor'):\n",
    "        super().__init__(nome, cor)\n",
    "class Onix(Carro):\n",
    "    def __init__(self, nome, cor):\n",
    "        super().__init__(nome, cor)\n",
    "#instanciando classes\n",
    "gol = Gol('Gol 2018')\n",
    "onix = Onix('Onix 2019', 'branco')\n",
    "\n",
    "gol.descricao()\n",
    "onix.cor = 'vermelha'\n",
    "onix.descricao()"
   ]
  },
  {
   "cell_type": "markdown",
   "metadata": {},
   "source": [
    "## polimorfismo"
   ]
  },
  {
   "cell_type": "markdown",
   "metadata": {},
   "source": [
    "Tal recurso foi usado no exemplo anterior enquanto usávamos a função super( ) que é dedicada a possibilitar de forma simples que possamos sobrescrever ou estender métodos de uma classe para outra conforme a necessidade."
   ]
  },
  {
   "cell_type": "code",
   "execution_count": 2,
   "metadata": {},
   "outputs": [
    {
     "name": "stdout",
     "output_type": "stream",
     "text": [
      "branco\n",
      "2.0\n",
      "Seu carro é um Gol ano 2015, e sua cor é branco\n",
      "amarela\n",
      "Seu carro é um ferrari, e sua cor é amarela\n"
     ]
    }
   ],
   "source": [
    "class Carro():\n",
    "    def __init__(self, nome, cor):\n",
    "        self.nome = nome\n",
    "        self.cor = cor\n",
    "    def sobreocarro(self):\n",
    "        print(f'Seu carro é um {self.nome}, e sua cor é {self.cor}')\n",
    "class Gol(Carro):\n",
    "    def __init__(self, nome, cor):\n",
    "        super().__init__(nome, cor)\n",
    "\n",
    "#instanciando clase herdeira\n",
    "carro1 = Gol('Gol ano 2015', 'branco')\n",
    "print(carro1.cor)\n",
    "#novo atributo classe herdeira\n",
    "carro1.potencia = '2.0'\n",
    "print(carro1.potencia)\n",
    "#função da classe principal\n",
    "carro1.sobreocarro()\n",
    "\n",
    "#instanciando clase principal\n",
    "carro = Carro('ferrari', 'amarela')\n",
    "print(carro.cor)\n",
    "carro.sobreocarro()"
   ]
  },
  {
   "cell_type": "markdown",
   "metadata": {},
   "source": [
    "## encapsulamento"
   ]
  },
  {
   "cell_type": "markdown",
   "metadata": {},
   "source": [
    "Como em Python tudo é objeto, tudo é dinâmico, e a linguagem\n",
    "coloca o controle total em suas mãos, há a convenção de alguns autores de\n",
    "que o encapsulamento em Python seria mais um aspecto estético (ao bater o\n",
    "olho em qualquer underline duplo __ saber que ali é algo reservado ao\n",
    "sistema) do que de fato ter de se preocupar com o acesso e a manipulação\n",
    "daquele tipo de variável/objeto, dado ou arquivo"
   ]
  },
  {
   "cell_type": "code",
   "execution_count": 21,
   "metadata": {},
   "outputs": [
    {
     "name": "stdout",
     "output_type": "stream",
     "text": [
      "nome\n"
     ]
    }
   ],
   "source": [
    "variavel = 'ola, sou eu'\n",
    "__variavel__ = 'ola, seu de novo' #reservado ao sistema\n"
   ]
  },
  {
   "cell_type": "markdown",
   "metadata": {},
   "source": [
    "##classes"
   ]
  },
  {
   "cell_type": "code",
   "execution_count": 25,
   "metadata": {},
   "outputs": [
    {
     "name": "stdout",
     "output_type": "stream",
     "text": [
      "Indefinido Indefinido\n",
      "brayan Miguel\n",
      "brayan Ninguem\n"
     ]
    }
   ],
   "source": [
    "class Pessoa():\n",
    "    nome = 'Indefinido'\n",
    "brayan = Pessoa()\n",
    "miguel = Pessoa()\n",
    "print(brayan.nome, miguel.nome)\n",
    "\n",
    "brayan.nome, miguel.nome = 'brayan', 'Miguel'\n",
    "print(brayan.nome, miguel.nome)\n",
    "\n",
    "#tudo dependete da ordem de atribuição, foi mudada a classe, mas não altera os objetos anteriormente atribuidos\n",
    "Pessoa.nome = 'Ninguem'\n",
    "print(brayan.nome, Pessoa.nome)\n"
   ]
  },
  {
   "cell_type": "markdown",
   "metadata": {},
   "source": [
    "## Escopo de Classe"
   ]
  },
  {
   "cell_type": "code",
   "execution_count": 40,
   "metadata": {},
   "outputs": [
    {
     "name": "stdout",
     "output_type": "stream",
     "text": [
      "Essa funcão init ja entra em execução\n",
      "brayan, cor parda\n"
     ]
    }
   ],
   "source": [
    "class Pessoa():\n",
    "    def __init__(self, nome, cor):\n",
    "        self.nome = nome\n",
    "        self.cor = cor\n",
    "        print('Essa funcão init ja entra em execução')\n",
    "    def falar(self):\n",
    "        print(self.nome + ', cor ' +self.cor)\n",
    "\n",
    "a = Pessoa('brayan', 'parda')\n",
    "a.falar()"
   ]
  },
  {
   "cell_type": "code",
   "execution_count": 18,
   "metadata": {},
   "outputs": [
    {
     "name": "stdout",
     "output_type": "stream",
     "text": [
      "onix branco Banco de couro 4x2\n"
     ]
    }
   ],
   "source": [
    "tracao = ['2x2', '4x2', '4x4']\n",
    "class Veiculo():\n",
    "    def __init__(self, veiculo, cor, caracteristicas) -> None:\n",
    "        self.veiculo = veiculo\n",
    "        self.cor = cor\n",
    "        self.caracteristicas = caracteristicas\n",
    "        self.tracao = tracao#atribuindo valor de variavel externa\n",
    "    def dizer(self):\n",
    "        print(tracao)\n",
    "onix = Veiculo('onix', 'branco', 'Banco de couro')\n",
    "print(onix.veiculo, onix.cor, onix.caracteristicas, onix.tracao[1])#variavel tração teve valor atribuido de fora da classe\n"
   ]
  },
  {
   "cell_type": "code",
   "execution_count": 25,
   "metadata": {},
   "outputs": [
    {
     "name": "stdout",
     "output_type": "stream",
     "text": [
      "onix branco Banco de couro 4x2\n"
     ]
    }
   ],
   "source": [
    "lista = ['2x2', '4x2', '4x4']\n",
    "class Veiculo():\n",
    "    def __init__(self, veiculo, cor, caracteristicas, tracao) -> None:\n",
    "        self.veiculo = veiculo\n",
    "        self.cor = cor\n",
    "        self.caracteristicas = caracteristicas\n",
    "        self.tracao = tracao\n",
    "    def dizer(self):\n",
    "        print(tracao)\n",
    "onix = Veiculo('onix', 'branco', 'Banco de couro', lista[1])#passando parte da lista como atributo\n",
    "print(onix.veiculo, onix.cor, onix.caracteristicas, onix.tracao)\n"
   ]
  },
  {
   "cell_type": "markdown",
   "metadata": {},
   "source": [
    "## Classe com parâmetros opcionais"
   ]
  },
  {
   "cell_type": "code",
   "execution_count": 38,
   "metadata": {},
   "outputs": [
    {
     "name": "stdout",
     "output_type": "stream",
     "text": [
      "['Brayan', 30, 'Masculino', 173, ['violão', 'programação']]\n"
     ]
    }
   ],
   "source": [
    "class Pessoa():\n",
    "    def __init__(self, nome, idade, sexo=False, altura=False):\n",
    "        self.nome = nome\n",
    "        self.idade = idade\n",
    "        self.sexo = sexo\n",
    "        self.altura = altura\n",
    "\n",
    "brayan = Pessoa('Brayan', 30)#apenas 2 argumentos eram necessários\n",
    "#variáveis atribuídas depois e mais nova atribuida\n",
    "brayan.sexo, brayan.altura, brayan.hoobys = 'Masculino', 173, ['violão', 'programação']\n",
    "lista = [brayan.nome, brayan.idade, brayan.sexo, brayan.altura, brayan.hoobys]\n",
    "print(lista)"
   ]
  },
  {
   "cell_type": "markdown",
   "metadata": {},
   "source": [
    "## Múltiplos métodos de classe"
   ]
  },
  {
   "cell_type": "code",
   "execution_count": 11,
   "metadata": {},
   "outputs": [
    {
     "name": "stdout",
     "output_type": "stream",
     "text": [
      "Variável no escopo global ano: 2022\n",
      "Você nasceu em: 1990\n"
     ]
    }
   ],
   "source": [
    "class Pessoa():\n",
    "    ano = 2022 #acessivel em todo escopo da classe\n",
    "    def __init__(self, nome, sexo=False, altura=False):\n",
    "        self.nome = nome\n",
    "        self.idade = int(input('Qual sua idade'))\n",
    "        self.sexo = sexo\n",
    "        self.altura = altura\n",
    "    def nascimento(self):\n",
    "        print(f'Você nasceu em: {self.ano - self.idade}')#pegando variavel no escopo global da classe\n",
    "brayan = Pessoa('Brayan')\n",
    "print(f'Variável no escopo global ano: {brayan.ano}')#variavel escopo global\n",
    "brayan.nascimento()"
   ]
  },
  {
   "cell_type": "markdown",
   "metadata": {},
   "source": [
    "## Interação entre métodos de classe\n",
    "página 311 ebook 6 em 1"
   ]
  },
  {
   "cell_type": "code",
   "execution_count": 20,
   "metadata": {},
   "outputs": [
    {
     "name": "stdout",
     "output_type": "stream",
     "text": [
      "Bem vindo brayan você está logado\n",
      "Você já está logado\n",
      "Você foi deslogado\n"
     ]
    }
   ],
   "source": [
    "class Pessoa():\n",
    "    def __init__(self, nome, login=False, logoff=False):\n",
    "        self.nome = nome\n",
    "        self.login = login\n",
    "        self.logoff = logoff\n",
    "    def logar(self):\n",
    "        if self.login == True:\n",
    "            print('Você já está logado')\n",
    "            return\n",
    "        print(f'Bem vindo {self.nome} você está logado')\n",
    "        self.login = True\n",
    "    def deslogar(self):\n",
    "        print('Você foi deslogado')\n",
    "        self.login = False\n",
    "usuario = Pessoa('brayan')\n",
    "usuario.logar()#primeiro logar\n",
    "usuario.logar()#já está logado\n",
    "usuario.deslogar()#deslogar"
   ]
  },
  {
   "cell_type": "markdown",
   "metadata": {},
   "source": [
    "## Alterando status de variavel login"
   ]
  },
  {
   "cell_type": "code",
   "execution_count": 7,
   "metadata": {},
   "outputs": [
    {
     "name": "stdout",
     "output_type": "stream",
     "text": [
      "Você já estado deslogado\n",
      "Agora você está logado\n",
      "Brayan já está logado\n",
      "Brayan deslogado\n",
      "Você já estado deslogado\n"
     ]
    }
   ],
   "source": [
    "class Pessoa():\n",
    "    def __init__(self, nome, login=False, logoff=False):\n",
    "        self.nome = nome\n",
    "        self.login = login\n",
    "        self.logoff = logoff\n",
    "    def logar(self):\n",
    "        if self.login:\n",
    "            print(f'{self.nome} já está logado')\n",
    "            return\n",
    "        self.login = True\n",
    "        print('Agora você está logado')\n",
    "    def deslogar(self):\n",
    "        if not self.login:\n",
    "            print('Você já estado deslogado')\n",
    "            return\n",
    "        self.login = False\n",
    "        print(f'{self.nome} deslogado')\n",
    "        \n",
    "usuario = Pessoa('Brayan')\n",
    "usuario.deslogar()\n",
    "usuario.logar()\n",
    "usuario.logar()\n",
    "usuario.deslogar()\n",
    "usuario.deslogar()"
   ]
  },
  {
   "cell_type": "code",
   "execution_count": 11,
   "metadata": {},
   "outputs": [
    {
     "name": "stdout",
     "output_type": "stream",
     "text": [
      "[]\n"
     ]
    }
   ],
   "source": []
  }
 ],
 "metadata": {
  "colab": {
   "authorship_tag": "ABX9TyOtWoJa/hAowDOuLM+XJ3bu",
   "collapsed_sections": [],
   "include_colab_link": true,
   "name": "9 - Orientação a objetos",
   "provenance": []
  },
  "kernelspec": {
   "display_name": "Python 3",
   "language": "python",
   "name": "python3"
  },
  "language_info": {
   "codemirror_mode": {
    "name": "ipython",
    "version": 3
   },
   "file_extension": ".py",
   "mimetype": "text/x-python",
   "name": "python",
   "nbconvert_exporter": "python",
   "pygments_lexer": "ipython3",
   "version": "3.9.12"
  },
  "vscode": {
   "interpreter": {
    "hash": "b220e92da6ceb05e3463a79e6b77767563e8cf1d8d565504968baea2f3211680"
   }
  }
 },
 "nbformat": 4,
 "nbformat_minor": 1
}
