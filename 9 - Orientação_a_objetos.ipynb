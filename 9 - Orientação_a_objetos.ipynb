{
  "cells": [
    {
      "cell_type": "markdown",
      "metadata": {
        "colab_type": "text",
        "id": "view-in-github"
      },
      "source": [
        "<a href=\"https://colab.research.google.com/github/brayan-mesquita/Python/blob/main/9%20-%20Orienta%C3%A7%C3%A3o_a_objetos.ipynb\" target=\"_parent\"><img src=\"https://colab.research.google.com/assets/colab-badge.svg\" alt=\"Open In Colab\"/></a>"
      ]
    },
    {
      "cell_type": "code",
      "execution_count": 2,
      "metadata": {
        "colab": {
          "base_uri": "https://localhost:8080/",
          "height": 38
        },
        "id": "iYxbxh9sj0qr",
        "outputId": "1fb271d8-9b00-48d6-97c7-a3b71243a9c7"
      },
      "outputs": [
        {
          "name": "stdout",
          "output_type": "stream",
          "text": [
            "brayan\n",
            "M\n",
            "30\n",
            "['contabilidade', 'programação', 'ciência de dados']\n",
            "brayan\n"
          ]
        }
      ],
      "source": [
        "class Pessoa():\n",
        "  nome = 'brayan'\n",
        "  idade = 19\n",
        "humano = Pessoa()\n",
        "print(humano.nome)\n",
        "#criando atributo\n",
        "humano.sexo = 'M'\n",
        "print(humano.sexo)\n",
        "#alterando\n",
        "humano.idade = 30\n",
        "print(humano.idade)\n",
        "#adicionando atributos em lista\n",
        "humano.conhecimentos = ['contabilidade', 'programação', 'ciência de dados']\n",
        "print(humano.conhecimentos)\n",
        "#adicionando atributos em dicionário\n",
        "humano.contatos = {'992':'brayan', '993':'miguel'}\n",
        "print(humano.contatos['992'])"
      ]
    },
    {
      "cell_type": "markdown",
      "metadata": {},
      "source": [
        "## funções setattr e delattr"
      ]
    },
    {
      "cell_type": "code",
      "execution_count": 4,
      "metadata": {},
      "outputs": [
        {
          "name": "stdout",
          "output_type": "stream",
          "text": [
            "seu nome é alguem, e você tem 0 anos\n",
            "seu nome é brayan, e você tem 30 anos\n",
            "seu nome é Patrícia, e você tem 41 anos\n",
            "seu nome é miguel, e você tem 5 anos\n",
            "seu nome é miguel, e você tem 18 anos\n",
            "['programação', 'análise de dados']\n"
          ]
        }
      ],
      "source": [
        "class Pessoa():\n",
        "    def __init__(self, nome='alguem', idade='0'):\n",
        "        self.nome = nome\n",
        "        self.idade = idade\n",
        "    def falarnome(self):\n",
        "        print(f'seu nome é {self.nome}, e você tem {self.idade} anos')\n",
        "humano = Pessoa()#inicialmente foi atribuido as nomes padrões\n",
        "humano.falarnome()\n",
        "#passando parametros\n",
        "humano.nome, humano.idade = 'brayan', '30'\n",
        "#passando parametros 2 forma\n",
        "serhumano = Pessoa('Patrícia', '41')\n",
        "humano.falarnome()\n",
        "serhumano.falarnome()\n",
        "\n",
        "#mudando nome\n",
        "setattr(humano, 'nome', 'Miguel')\n",
        "setattr(humano, 'idade', '5')\n",
        "humano.falarnome()\n",
        "\n",
        "#apagando atributo\n",
        "delattr(humano, 'idade',)#apaga o atributo\n",
        "\n",
        "#setando atributo com valor\n",
        "setattr(humano, 'idade', '18')\n",
        "humano.falarnome()\n",
        "\n",
        "#setando novo atributo\n",
        "setattr(humano, 'hoobs', ['programação', 'análise de dados'])\n",
        "print(humano.hoobs)"
      ]
    },
    {
      "cell_type": "code",
      "execution_count": 18,
      "metadata": {
        "colab": {
          "base_uri": "https://localhost:8080/"
        },
        "id": "OVfEciHhlCmN",
        "outputId": "dcc24b22-a880-4f61-c297-d8094a49a8fa"
      },
      "outputs": [
        {
          "name": "stdout",
          "output_type": "stream",
          "text": [
            "A marca do carro é Volks, o motor é 1.6. Se eu gosto: não\n",
            "Você não gostava mesmo do Volks, mas vou mudar seu conceito\n",
            "A marca do carro é Volks, o motor é 1.6. Se eu gosto: sim\n",
            "Imprimindo valor interno da funçãosim\n",
            "A marca do carro é Toyota, o motor é 2.0. Se eu gosto: sim\n"
          ]
        }
      ],
      "source": [
        "class Carro():\n",
        "  def __init__(self, marca, motor, cor):\n",
        "    self.marca = marca\n",
        "    self.motor = motor\n",
        "    self.cor = motor\n",
        "  def caracteristicas(self, gosto='não'):#atributo especifico para esta função, valor padrão não\n",
        "    self.gosto = gosto\n",
        "    print(f\"A marca do carro é {self.marca}, o motor é {self.motor}. Se eu gosto: {self.gosto}\")\n",
        "    if 'não' == self.gosto:\n",
        "      print(f'Você não gostava mesmo do {self.marca}, mas vou mudar seu conceito')\n",
        "      self.gosto = 'sim'\n",
        "      print(f\"A marca do carro é {self.marca}, o motor é {self.motor}. Se eu gosto: {self.gosto}\")\n",
        "\n",
        "carro1 = Carro(\"Volks\", \"1.6\", \"azul\")\n",
        "carro2 = Carro('Toyota', '2.0', 'vermelho')\n",
        "#print(carro1.caracteristicas('sim'), carro2.caracteristicas('não'))\n",
        "carro1.caracteristicas()\n",
        "print(f'Imprimindo valor interno da função que é: {carro1.gosto}')#o valor interno da variavel gosto é sim\n",
        "carro2.caracteristicas('sim')"
      ]
    },
    {
      "cell_type": "markdown",
      "metadata": {},
      "source": [
        "## herança"
      ]
    },
    {
      "cell_type": "code",
      "execution_count": 16,
      "metadata": {},
      "outputs": [
        {
          "name": "stdout",
          "output_type": "stream",
          "text": [
            "O carro é Gol 2018, e sua cor é sem cor\n",
            "O carro é Onix 2019, e sua cor é vermelha\n"
          ]
        }
      ],
      "source": [
        "class Carro():\n",
        "    def __init__(self, nome, cor):\n",
        "        self.nome = nome\n",
        "        self.cor = cor\n",
        "    def descricao(self):\n",
        "        print(f'O carro é {self.nome}, e sua cor é {self.cor}')\n",
        "class Gol(Carro):\n",
        "    def __init__(self, nome, cor='sem cor'):\n",
        "        super().__init__(nome, cor)\n",
        "class Onix(Carro):\n",
        "    def __init__(self, nome, cor):\n",
        "        super().__init__(nome, cor)\n",
        "#instanciando classes\n",
        "gol = Gol('Gol 2018')\n",
        "onix = Onix('Onix 2019', 'branco')\n",
        "\n",
        "gol.descricao()\n",
        "onix.cor = 'vermelha'\n",
        "onix.descricao()"
      ]
    },
    {
      "cell_type": "markdown",
      "metadata": {},
      "source": [
        "## polimorfismo"
      ]
    },
    {
      "cell_type": "markdown",
      "metadata": {},
      "source": [
        "Tal recurso foi usado no exemplo anterior enquanto usávamos a função super( ) que é dedicada a possibilitar de forma simples que possamos sobrescrever ou estender métodos de uma classe para outra conforme a necessidade."
      ]
    },
    {
      "cell_type": "code",
      "execution_count": 2,
      "metadata": {},
      "outputs": [
        {
          "name": "stdout",
          "output_type": "stream",
          "text": [
            "branco\n",
            "2.0\n",
            "Seu carro é um Gol ano 2015, e sua cor é branco\n",
            "amarela\n",
            "Seu carro é um ferrari, e sua cor é amarela\n"
          ]
        }
      ],
      "source": [
        "class Carro():\n",
        "    def __init__(self, nome, cor):\n",
        "        self.nome = nome\n",
        "        self.cor = cor\n",
        "    def sobreocarro(self):\n",
        "        print(f'Seu carro é um {self.nome}, e sua cor é {self.cor}')\n",
        "class Gol(Carro):\n",
        "    def __init__(self, nome, cor):\n",
        "        super().__init__(nome, cor)\n",
        "\n",
        "#instanciando clase herdeira\n",
        "carro1 = Gol('Gol ano 2015', 'branco')\n",
        "print(carro1.cor)\n",
        "#novo atributo classe herdeira\n",
        "carro1.potencia = '2.0'\n",
        "print(carro1.potencia)\n",
        "#função da classe principal\n",
        "carro1.sobreocarro()\n",
        "\n",
        "#instanciando clase principal\n",
        "carro = Carro('ferrari', 'amarela')\n",
        "print(carro.cor)\n",
        "carro.sobreocarro()"
      ]
    },
    {
      "cell_type": "markdown",
      "metadata": {},
      "source": [
        "## encapsulamento"
      ]
    },
    {
      "cell_type": "markdown",
      "metadata": {},
      "source": [
        "Como em Python tudo é objeto, tudo é dinâmico, e a linguagem\n",
        "coloca o controle total em suas mãos, há a convenção de alguns autores de\n",
        "que o encapsulamento em Python seria mais um aspecto estético (ao bater o\n",
        "olho em qualquer underline duplo __ saber que ali é algo reservado ao\n",
        "sistema) do que de fato ter de se preocupar com o acesso e a manipulação\n",
        "daquele tipo de variável/objeto, dado ou arquivo"
      ]
    },
    {
      "cell_type": "code",
      "execution_count": 21,
      "metadata": {},
      "outputs": [
        {
          "name": "stdout",
          "output_type": "stream",
          "text": [
            "nome\n"
          ]
        }
      ],
      "source": [
        "variavel = 'ola, sou eu'\n",
        "__variavel__ = 'ola, seu de novo' #reservado ao sistema\n"
      ]
    },
    {
      "cell_type": "markdown",
      "metadata": {},
      "source": [
        "##classes"
      ]
    },
    {
      "cell_type": "code",
      "execution_count": 25,
      "metadata": {},
      "outputs": [
        {
          "name": "stdout",
          "output_type": "stream",
          "text": [
            "Indefinido Indefinido\n",
            "brayan Miguel\n",
            "brayan Ninguem\n"
          ]
        }
      ],
      "source": [
        "class Pessoa():\n",
        "    nome = 'Indefinido'\n",
        "brayan = Pessoa()\n",
        "miguel = Pessoa()\n",
        "print(brayan.nome, miguel.nome)\n",
        "\n",
        "brayan.nome, miguel.nome = 'brayan', 'Miguel'\n",
        "print(brayan.nome, miguel.nome)\n",
        "\n",
        "#tudo dependete da ordem de atribuição, foi mudada a classe, mas não altera os objetos anteriormente atribuidos\n",
        "Pessoa.nome = 'Ninguem'\n",
        "print(brayan.nome, Pessoa.nome)\n"
      ]
    },
    {
      "cell_type": "markdown",
      "metadata": {},
      "source": [
        "## Escopo de Classe"
      ]
    },
    {
      "cell_type": "code",
      "execution_count": 40,
      "metadata": {},
      "outputs": [
        {
          "name": "stdout",
          "output_type": "stream",
          "text": [
            "Essa funcão init ja entra em execução\n",
            "brayan, cor parda\n"
          ]
        }
      ],
      "source": [
        "class Pessoa():\n",
        "    def __init__(self, nome, cor):\n",
        "        self.nome = nome\n",
        "        self.cor = cor\n",
        "        print('Essa funcão init ja entra em execução')\n",
        "    def falar(self):\n",
        "        print(self.nome + ', cor ' +self.cor)\n",
        "\n",
        "a = Pessoa('brayan', 'parda')\n",
        "a.falar()"
      ]
    },
    {
      "cell_type": "code",
      "execution_count": 30,
      "metadata": {},
      "outputs": [
        {
          "name": "stdout",
          "output_type": "stream",
          "text": [
            "4x4 4x2 2x2 \n",
            "\n",
            "['onix', ['2x2', '4x2', '4x4'], 'branco']\n",
            "\n",
            "\n",
            "onix\n",
            "['2x2', '4x2', '4x4']\n",
            "branco\n"
          ]
        }
      ],
      "source": [
        "tracao = ['2x2', '4x2', '4x4']\n",
        "class Veiculo():\n",
        "    def __init__(self, veiculo, cor, caracteristicas) -> None:\n",
        "        self.veiculo = veiculo\n",
        "        self.cor = cor\n",
        "        self.caracteristicas = caracteristicas\n",
        "        self.tracao = tracao#atribuindo valor de variavel externa\n",
        "    def dizer(self):\n",
        "        print(tracao)\n",
        "onix = Veiculo('onix', 'branco', tracao)#passando lista como atributo\n",
        "\n",
        "for i in reversed(onix.caracteristicas):#iterando sobre variavel em classe\n",
        "    print(i, end=' ')\n",
        "lista = [onix.veiculo, onix.tracao, onix.cor]\n",
        "print('\\n')\n",
        "\n",
        "print(lista[0:3])\n",
        "print('\\n')\n",
        "\n",
        "for i in range(0,3):\n",
        "    print(lista[i])\n"
      ]
    }
  ],
  "metadata": {
    "colab": {
      "authorship_tag": "ABX9TyOtWoJa/hAowDOuLM+XJ3bu",
      "collapsed_sections": [],
      "include_colab_link": true,
      "name": "9 - Orientação a objetos",
      "provenance": []
    },
    "kernelspec": {
      "display_name": "Python 3.8.10 64-bit",
      "language": "python",
      "name": "python3"
    },
    "language_info": {
      "codemirror_mode": {
        "name": "ipython",
        "version": 3
      },
      "file_extension": ".py",
      "mimetype": "text/x-python",
      "name": "python",
      "nbconvert_exporter": "python",
      "pygments_lexer": "ipython3",
      "version": "3.8.10"
    },
    "vscode": {
      "interpreter": {
        "hash": "31f2aee4e71d21fbe5cf8b01ff0e069b9275f58929596ceb00d14d90e3e16cd6"
      }
    }
  },
  "nbformat": 4,
  "nbformat_minor": 0
}
